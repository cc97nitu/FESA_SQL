{
 "cells": [
  {
   "cell_type": "markdown",
   "id": "b4d45613-7e0a-43b9-8a1a-690cebfa8bda",
   "metadata": {},
   "source": [
    "### imports"
   ]
  },
  {
   "cell_type": "code",
   "execution_count": 1,
   "id": "ed7340cd-bbb9-4951-807b-deac7681f05b",
   "metadata": {},
   "outputs": [],
   "source": [
    "\n",
    "import random\n",
    "import time\n",
    "import json\n",
    "from datetime import datetime\n",
    "\n",
    "import psycopg2\n",
    "import numpy as np\n",
    "from scipy.interpolate import LinearNDInterpolator\n",
    "import matplotlib as mpl\n",
    "import matplotlib.pyplot as plt\n",
    "\n",
    "%matplotlib inline  "
   ]
  },
  {
   "cell_type": "code",
   "execution_count": 2,
   "id": "93b9d8d0-7961-4588-a566-f9b2318e7133",
   "metadata": {},
   "outputs": [],
   "source": [
    "TERMINAL_COLORS = [\n",
    "\"\\u001b[31m\", \"\\u001b[32m\", \"\\u001b[33m\", \"\\u001b[34m\", \"\\u001b[35m\", \"\\u001b[36m\", \"\\u001b[37m\", \"\\u001b[31;1m\", \"\\u001b[32;1m\", \"\\u001b[33;1m\", \"\\u001b[34;1m\", \"\\u001b[35;1m\",\n",
    "]\n",
    "\n",
    "TERMINAL_COLOR_RESET = \"\\u001b[0m\"\n"
   ]
  },
  {
   "cell_type": "markdown",
   "id": "885aaf11-3e89-4670-acd7-80f633d58d34",
   "metadata": {},
   "source": [
    "# Tunescan"
   ]
  },
  {
   "cell_type": "markdown",
   "id": "e605b95e-06de-4783-bf6d-71426be97b4a",
   "metadata": {},
   "source": [
    "#### helper functions"
   ]
  },
  {
   "cell_type": "code",
   "execution_count": 26,
   "id": "4b3b9bd4-f57f-479e-b12d-d3a8a8e19dde",
   "metadata": {},
   "outputs": [],
   "source": [
    "class TuneScan(dict):\n",
    "    def __init__(self, timePoints, qx_min, qx_max, qy_min, qy_max, direction, numSweeps):\n",
    "        self[\"timePoints\"] = timePoints\n",
    "        self[\"qx_min\"] = qx_min\n",
    "        self[\"qx_max\"] = qx_max\n",
    "        self[\"qy_min\"] = qy_min\n",
    "        self[\"qy_max\"] = qy_max\n",
    "        self[\"direction\"] = direction\n",
    "        self[\"numSweeps\"] = numSweeps\n",
    "\n",
    "        self[\"all_tunePoints\"] = get_tunePoints_tuneScan(qx_min, qx_max, qy_min, qy_max, direction, numSweeps)\n",
    "\n",
    "        return\n",
    "\n",
    "    def run(self, shotCount):\n",
    "        self[\"startTime\"] = int(time.time() * 1e9)\n",
    "        self[\"stopTime\"] = None\n",
    "        \n",
    "        tuneScan_results = dict()\n",
    "        for tune_idx, tunePoints in enumerate(tuneScan[\"all_tunePoints\"]):\n",
    "            # send to hardware\n",
    "            print(\"perform trim\")\n",
    "            set_tunes(timePoints, tunePoints)\n",
    "        \n",
    "            # listen to DCCT\n",
    "            client = SimpleClient(provider=RdaProvider())\n",
    "            subscription = client.subscribe(\n",
    "                PROPERTY_NAME,\n",
    "                context=[\n",
    "                    TimingSelector(FAIR_SELECTOR),\n",
    "                    DATA_FILTER \n",
    "                ],\n",
    "            )\n",
    "        \n",
    "            intensities = list()\n",
    "            print(\"subscribing\")\n",
    "            for iteration, response in enumerate(subscription):\n",
    "                if iteration == 0:\n",
    "                    # old, potentially fake data\n",
    "                    continue\n",
    "                \n",
    "                ts = response.value[\"acquisitionStamp\"] / 1e9\n",
    "                ts_datetime = datetime.utcfromtimestamp(ts).strftime('%Y-%m-%d %H:%M:%S')\n",
    "        \n",
    "                intensities.append(response.value[\"intensity\"].tolist())\n",
    "                \n",
    "                print(TERMINAL_COLORS[1] + \"DCCT\" + \n",
    "                      \" received S={}:P={}\".format(response.value[\"sequenceIndex\"], response.value[\"processIndex\"]) +\n",
    "                      \"    \" + ts_datetime +\n",
    "                      TERMINAL_COLOR_RESET)\n",
    "        \n",
    "                if iteration == shotCount:\n",
    "                    tuneScan_results[str(tune_idx)] = intensities\n",
    "                    break\n",
    "\n",
    "        self[\"tuneScan_results\"] = tuneScan_results\n",
    "        self[\"stopTime\"] = int(time.time() * 1e9)\n",
    "\n",
    "        return"
   ]
  },
  {
   "cell_type": "markdown",
   "id": "4528fab9-89a2-41a7-bbe7-3b9bd2bfb855",
   "metadata": {
    "jp-MarkdownHeadingCollapsed": true
   },
   "source": [
    "### fetch from DB"
   ]
  },
  {
   "cell_type": "code",
   "execution_count": 27,
   "id": "3da5af36-0267-413b-8ae2-e4493e9d1b95",
   "metadata": {},
   "outputs": [],
   "source": [
    "DBNAME = \"bpm_fesa_dump\"\n",
    "HOST = \"pgsql.gsi.de\"\n",
    "PORT = \"8646\"\n",
    "USER = \"bpm_fesa_dump_slave\"\n",
    "PASSWORD = \"kuwLMKTcAap6mKTP\""
   ]
  },
  {
   "cell_type": "code",
   "execution_count": 28,
   "id": "f86cf749",
   "metadata": {},
   "outputs": [],
   "source": [
    "try:\n",
    "    dbcon = psycopg2.connect(\"dbname=\"+DBNAME + \" user=\" + USER + \" host=\" + HOST + \" port=\" + PORT + \" password=\" + PASSWORD)\n",
    "except Exception as e:\n",
    "    print(\"Unable to connect to database\")\n",
    "    print(e)\n",
    "\n",
    "crsr = dbcon.cursor()"
   ]
  },
  {
   "cell_type": "code",
   "execution_count": 97,
   "id": "46823ecb",
   "metadata": {},
   "outputs": [],
   "source": [
    "readStatement = \"\"\"\n",
    "SELECT\n",
    "    scanCompleted, direction, tuneScan\n",
    "FROM\n",
    "    bpm_fesa_dump.tunescan\n",
    ";\n",
    "\"\"\""
   ]
  },
  {
   "cell_type": "code",
   "execution_count": 100,
   "id": "36bc7c6b",
   "metadata": {},
   "outputs": [],
   "source": [
    "crsr.execute(readStatement)\n",
    "\n",
    "data = crsr.fetchall()"
   ]
  },
  {
   "cell_type": "code",
   "execution_count": 101,
   "id": "9aff1600",
   "metadata": {},
   "outputs": [
    {
     "name": "stdout",
     "output_type": "stream",
     "text": [
      "0 verticallyDownwards 2023-11-08 09:31:31\n",
      "1 verticallyDownwards 2023-11-09 00:44:14\n",
      "2 verticallyDownwards 2023-11-09 00:49:39\n",
      "3 horizontallyUpwards 2023-11-09 01:02:32\n",
      "4 horizontallyDownwards 2023-11-09 01:59:18\n",
      "5 horizontallyDownwards 2023-11-09 02:08:52\n",
      "6 verticallyUpwards 2023-11-09 02:17:10\n",
      "7 verticallyUpwards 2023-11-09 02:35:26\n",
      "8 verticallyUpwards 2023-11-12 04:19:52\n",
      "9 horizontallyUpwards 2023-11-12 04:25:30\n",
      "10 verticallyUpwards 2023-11-12 04:34:59\n",
      "11 verticallyUpwards 2023-11-12 04:45:30\n",
      "12 verticallyUpwards 2023-11-26 16:31:56\n",
      "13 verticallyUpwards 2023-11-26 16:49:08\n",
      "14 verticallyUpwards 2023-11-26 17:02:24\n",
      "15 horizontallyUpwards 2023-11-26 17:14:13\n",
      "16 horizontallyUpwards 2023-11-26 17:21:49\n",
      "17 horizontallyUpwards 2023-11-26 17:37:05\n",
      "18 verticallyUpwards 2023-11-26 17:48:03\n"
     ]
    }
   ],
   "source": [
    "for i, scan in enumerate(data):\n",
    "    ts = scan[0] / 1e9\n",
    "    ts_datetime = datetime.utcfromtimestamp(ts).strftime('%Y-%m-%d %H:%M:%S')\n",
    "    \n",
    "    print(i, scan[1], ts_datetime)"
   ]
  },
  {
   "cell_type": "code",
   "execution_count": 102,
   "id": "ba78e87c",
   "metadata": {
    "scrolled": true
   },
   "outputs": [
    {
     "name": "stdout",
     "output_type": "stream",
     "text": [
      "verticallyUpwards 35\n"
     ]
    }
   ],
   "source": [
    "tuneScan = data[18][2]\n",
    "\n",
    "print(tuneScan[\"direction\"], tuneScan[\"numSweeps\"])"
   ]
  },
  {
   "cell_type": "code",
   "execution_count": 103,
   "id": "1b5706fb",
   "metadata": {},
   "outputs": [
    {
     "data": {
      "text/plain": [
       "4.01"
      ]
     },
     "execution_count": 103,
     "metadata": {},
     "output_type": "execute_result"
    }
   ],
   "source": [
    "tuneScan[\"qx_min\"]"
   ]
  },
  {
   "cell_type": "markdown",
   "id": "232138dc-5a11-4632-8a8d-e7e7968fbc7d",
   "metadata": {},
   "source": [
    "# plot result"
   ]
  },
  {
   "cell_type": "code",
   "execution_count": 104,
   "id": "022a1262",
   "metadata": {},
   "outputs": [],
   "source": [
    "def convolutional_filter(signal):\n",
    "    kernel = np.ones(9)  # make this uneven\n",
    "    kernel /= kernel.sum()\n",
    "    \n",
    "    sig_padded = np.pad(signal, (kernel.shape[0] - 1)//2, mode=\"edge\")\n",
    "    \n",
    "    return np.convolve(sig_padded, kernel, mode=\"valid\")"
   ]
  },
  {
   "cell_type": "code",
   "execution_count": 105,
   "id": "4a42e2d7-4312-4026-9cc4-322634d987eb",
   "metadata": {},
   "outputs": [],
   "source": [
    "def crop_signal(timePoints, signal):\n",
    "    time_recording = np.linspace(0, timePoints[3] - timePoints[0], len(signal))\n",
    "\n",
    "    time_scan = np.linspace(timePoints[1], timePoints[2], round(\n",
    "        (timePoints[2] - timePoints[1]) / (timePoints[3] - timePoints[0]) * len(signal)\n",
    "    ),)\n",
    "\n",
    "    interp = np.interp(time_scan, time_recording, signal)\n",
    "\n",
    "    return time_scan, interp"
   ]
  },
  {
   "cell_type": "code",
   "execution_count": 106,
   "id": "6e70e6ae-1a86-4c1e-9990-b30c4dc4d5a2",
   "metadata": {},
   "outputs": [],
   "source": [
    "all_shots = list()\n",
    "def interpolate_tuneScan_results(tuneScan):\n",
    "    timePoints, tuneScan_results = tuneScan[\"timePoints\"], tuneScan[\"tuneScan_results\"]\n",
    "    \n",
    "    samples, labels = list(), list()\n",
    "    for idx, tunePoints in enumerate(np.array(tuneScan[\"all_tunePoints\"])):\n",
    "        shots = [crop_signal(timePoints, s)[1] for s in tuneScan_results[str(idx)]]\n",
    "    \n",
    "        for i in range(len(shots)):\n",
    "            # normalize intensity\n",
    "            shots[i] = shots[i] / shots[i][0]\n",
    "    \n",
    "            # differentiate\n",
    "#             shots[i] = np.diff(shots[i])\n",
    "    \n",
    "        shots = convolutional_filter(np.array(shots).mean(axis=0))\n",
    "        shots = np.abs(np.diff(shots))\n",
    "        \n",
    "        all_shots.append(shots)\n",
    "        \n",
    "        qx_range = np.linspace(tunePoints[0][1], tunePoints[0][2], len(shots))\n",
    "        qy_range = np.linspace(tunePoints[1][1], tunePoints[1][2], len(shots))\n",
    "    \n",
    "        for i in range(shots.shape[0]):\n",
    "            samples.append((qx_range[i], qy_range[i]),)\n",
    "            labels.append(shots[i])\n",
    "\n",
    "    return LinearNDInterpolator(samples, labels)"
   ]
  },
  {
   "cell_type": "code",
   "execution_count": 107,
   "id": "e851f235-7d4a-49f4-b1f1-ec54b69940ec",
   "metadata": {},
   "outputs": [],
   "source": [
    "interp = interpolate_tuneScan_results(tuneScan)"
   ]
  },
  {
   "cell_type": "code",
   "execution_count": 108,
   "id": "060c0cdd-b23b-49e9-93dc-615ae4bb29b9",
   "metadata": {},
   "outputs": [],
   "source": [
    "qx_range = np.linspace(tuneScan[\"qx_min\"], tuneScan[\"qx_max\"], 33)\n",
    "qy_range = np.linspace(tuneScan[\"qy_min\"], tuneScan[\"qy_max\"], 33)\n",
    "qx_range, qy_range = np.meshgrid(qx_range, qy_range)\n",
    "\n",
    "result_scanInterpolated = interp(qx_range, qy_range)"
   ]
  },
  {
   "cell_type": "code",
   "execution_count": 109,
   "id": "b3b58476-f6e9-4a1f-a3c8-155fa1515d14",
   "metadata": {
    "scrolled": false
   },
   "outputs": [
    {
     "data": {
      "image/png": "[encoded data removed]",
      "text/plain": [
       "<Figure size 432x288 with 2 Axes>"
      ]
     },
     "metadata": {
      "needs_background": "light"
     },
     "output_type": "display_data"
    }
   ],
   "source": [
    "fig, ax = plt.subplots()\n",
    "\n",
    "norm = mpl.colors.Normalize(vmin=0, vmax=0.001)\n",
    "\n",
    "cmap = plt.get_cmap(\"plasma\")\n",
    "# norm = mpl.colors.BoundaryNorm(np.linspace(0, 1e-3, 7), ncolors=cmap.N, clip=True)\n",
    "norm = mpl.colors.LogNorm(vmin=1e-5, vmax=0.01 * result_scanInterpolated.max())\n",
    "\n",
    "pcm = ax.pcolormesh(qx_range, qy_range, result_scanInterpolated,\n",
    "                    shading=\"auto\", norm=norm)\n",
    "\n",
    "cbar = fig.colorbar(pcm)\n",
    "\n",
    "# make nice\n",
    "ax.set_box_aspect(1)\n",
    "\n",
    "ax.set_xlabel(\"hor. tune\")\n",
    "ax.set_ylabel(\"ver. tune\")\n",
    "cbar.set_label(r\"$\\frac{1}{I} \\cdot \\frac{\\partial I}{\\partial t}$\")"
   ]
  },
  {
   "cell_type": "markdown",
   "id": "8c6c0375",
   "metadata": {},
   "source": [
    "#### plot imshow"
   ]
  },
  {
   "cell_type": "code",
   "execution_count": 110,
   "id": "3e1f6fb6",
   "metadata": {},
   "outputs": [
    {
     "data": {
      "text/plain": [
       "<matplotlib.colors.BoundaryNorm at 0x7f27f81e5820>"
      ]
     },
     "execution_count": 110,
     "metadata": {},
     "output_type": "execute_result"
    }
   ],
   "source": [
    "cbounds = np.logspace(-6, -1, 6)\n",
    "mpl.colors.BoundaryNorm(cbounds, 8)"
   ]
  },
  {
   "cell_type": "code",
   "execution_count": 111,
   "id": "9b4cd4ff",
   "metadata": {},
   "outputs": [
    {
     "name": "stdout",
     "output_type": "stream",
     "text": [
      "/dev/shm/Tunescan_2023-11-26_17:38:07.pdf\n"
     ]
    },
    {
     "data": {
      "image/png": "[encoded data removed]",
      "text/plain": [
       "<Figure size 432x288 with 2 Axes>"
      ]
     },
     "metadata": {
      "needs_background": "light"
     },
     "output_type": "display_data"
    }
   ],
   "source": [
    "extent = [tuneScan[\"qx_min\"], tuneScan[\"qx_max\"], tuneScan[\"qy_min\"], tuneScan[\"qy_max\"]]\n",
    "\n",
    "fig, ax = plt.subplots()\n",
    "\n",
    "raw_plot_data = np.stack(all_shots).T\n",
    "norm = mpl.colors.LogNorm(1000*raw_plot_data.min(), raw_plot_data.max())\n",
    "# norm = mpl.colors.BoundaryNorm(cbounds, cmap.N)\n",
    "\n",
    "pcm = ax.imshow(raw_plot_data, extent=extent,\n",
    "                aspect=\"auto\", origin=\"lower\", interpolation=None,\n",
    "                norm=norm, cmap=\"inferno\")\n",
    "\n",
    "fig.colorbar(pcm, ax=ax)\n",
    "\n",
    "ax.set_box_aspect(1)\n",
    "\n",
    "# make nice\n",
    "ax.set_title(tuneScan[\"direction\"])\n",
    "ax.set_xlabel(\"hor. tune\")\n",
    "ax.set_ylabel(\"ver. tune\")\n",
    "\n",
    "fig.tight_layout()\n",
    "\n",
    "# save fig\n",
    "ts = tuneScan[\"startTime\"] / 1e9\n",
    "ts_datetime = datetime.utcfromtimestamp(ts).strftime('%Y-%m-%d_%H:%M:%S')\n",
    "fileName =\"/dev/shm/Tunescan_{}.pdf\".format(ts_datetime)\n",
    "fig.savefig(fileName, bbox_inches=None, pad_inches=1e-2)\n",
    "\n",
    "print(fileName)"
   ]
  },
  {
   "cell_type": "markdown",
   "id": "1b664b91-f0c8-40ef-988a-96f858ed43cc",
   "metadata": {},
   "source": [
    "# debug"
   ]
  },
  {
   "cell_type": "markdown",
   "id": "d281e8db",
   "metadata": {},
   "source": [
    "# LSA settings"
   ]
  },
  {
   "cell_type": "code",
   "execution_count": 18,
   "id": "611419d7",
   "metadata": {},
   "outputs": [],
   "source": [
    "def humanTime(ts):\n",
    "    return datetime.utcfromtimestamp(ts / 1e9).strftime('%Y-%m-%d_%H:%M:%S')"
   ]
  },
  {
   "cell_type": "code",
   "execution_count": 19,
   "id": "0058f762",
   "metadata": {},
   "outputs": [],
   "source": [
    "readStatement = \"\"\"\n",
    "SELECT\n",
    "    sequenceStartStamp\n",
    "FROM\n",
    "    bpm_fesa_dump.lsa_settings\n",
    ";\n",
    "\"\"\""
   ]
  },
  {
   "cell_type": "code",
   "execution_count": 20,
   "id": "1ae197ab",
   "metadata": {},
   "outputs": [],
   "source": [
    "crsr.execute(readStatement)\n",
    "\n",
    "lsa_data = crsr.fetchall()"
   ]
  },
  {
   "cell_type": "code",
   "execution_count": 21,
   "id": "4610a6a6",
   "metadata": {},
   "outputs": [],
   "source": [
    "lsa_sequenceStartStamps = np.array(lsa_data).squeeze()\n",
    "lsa_stamps_before = lsa_sequenceStartStamps[np.where(lsa_sequenceStartStamps < tuneScan[\"startTime\"])]\n",
    "closest_lsa_stamp = lsa_stamps_before[np.abs(lsa_stamps_before - tuneScan[\"startTime\"]).argmin()]"
   ]
  },
  {
   "cell_type": "code",
   "execution_count": 22,
   "id": "445cd62e",
   "metadata": {},
   "outputs": [
    {
     "data": {
      "text/plain": [
       "1699772776143600000"
      ]
     },
     "execution_count": 22,
     "metadata": {},
     "output_type": "execute_result"
    }
   ],
   "source": [
    "closest_lsa_stamp"
   ]
  },
  {
   "cell_type": "code",
   "execution_count": 23,
   "id": "61a921ec",
   "metadata": {},
   "outputs": [],
   "source": [
    "readStatement = \"\"\"\n",
    "SELECT\n",
    "    *\n",
    "FROM\n",
    "    bpm_fesa_dump.lsa_settings\n",
    "WHERE\n",
    "    sequenceStartStamp = %s\n",
    ";\n",
    "\"\"\""
   ]
  },
  {
   "cell_type": "code",
   "execution_count": 24,
   "id": "eb891e91",
   "metadata": {},
   "outputs": [],
   "source": [
    "crsr.execute(readStatement, [int(closest_lsa_stamp),])\n",
    "\n",
    "lsa_data = crsr.fetchall()"
   ]
  },
  {
   "cell_type": "code",
   "execution_count": 25,
   "id": "dca1cadc",
   "metadata": {},
   "outputs": [
    {
     "name": "stdout",
     "output_type": "stream",
     "text": [
      "0 sis18beam_qh\n",
      "1 sis18beam_qv\n",
      "2 sis18beam_ch\n",
      "3 sis18beam_cv\n",
      "4 sis18beam_brho\n",
      "5 sis18beam_dpfrev\n",
      "6 sis18beam_trev\n",
      "7 logical_gs02be1_urf\n",
      "8 sis18optics_sigma\n",
      "9 sis18optics_tau\n",
      "10 logical_gs01qs1f_k1l\n",
      "11 logical_gs01qs2d_k1l\n",
      "12 logical_gs12qs1f_k1l\n",
      "13 logical_gs12qs2d_k1l\n",
      "14 logical_gs12qs3t_k1l\n",
      "15 logical_gs02kq1e_k1l\n",
      "16 logical_gs01km3qs_k1l\n",
      "17 logical_gs02km3qs_k1l\n",
      "18 logical_gs04km3qs_k1l\n",
      "19 logical_gs06km3qs_k1l\n",
      "20 logical_gs07km3qs_k1l\n",
      "21 logical_gs08km3qs_k1l\n",
      "22 logical_gs10km3qs_k1l\n",
      "23 logical_gs12km3qs_k1l\n",
      "24 logical_gs02kq4_k1l\n",
      "25 logical_gs04kq4_k1l\n",
      "26 logical_gs08kq4_k1l\n",
      "27 logical_gs10kq4_k1l\n",
      "28 logical_gs01ks1c_k2l\n",
      "29 logical_gs03ks1c_k2l\n",
      "30 logical_gs05ks1c_k2l\n",
      "31 logical_gs07ks1c_k2l\n",
      "32 logical_gs09ks1c_k2l\n",
      "33 logical_gs11ks1c_k2l\n",
      "34 logical_gs01ks3c_k2l\n",
      "35 logical_gs03ks3c_k2l\n",
      "36 logical_gs05ks3c_k2l\n",
      "37 logical_gs07ks3c_k2l\n",
      "38 logical_gs09ks3c_k2l\n",
      "39 logical_gs11ks3c_k2l\n",
      "40 logical_gs02km5ss_k2l\n",
      "41 logical_gs08km5ss_k2l\n",
      "42 pattern\n",
      "43 sequenceindex\n",
      "44 sequencestartstamp\n"
     ]
    }
   ],
   "source": [
    "colnames = [desc[0] for desc in crsr.description]\n",
    "for i, c in enumerate(colnames):\n",
    "    print(i,c)"
   ]
  },
  {
   "cell_type": "code",
   "execution_count": 35,
   "id": "9b9fe5ee",
   "metadata": {},
   "outputs": [
    {
     "name": "stdout",
     "output_type": "stream",
     "text": [
      "28\n",
      "29\n",
      "30\n",
      "31\n",
      "32\n",
      "33\n",
      "34\n",
      "35\n",
      "36\n",
      "37\n",
      "38\n",
      "39\n",
      "40\n",
      "41\n"
     ]
    },
    {
     "data": {
      "image/png": "[encoded data removed]",
      "text/plain": [
       "<Figure size 432x288 with 1 Axes>"
      ]
     },
     "metadata": {
      "needs_background": "light"
     },
     "output_type": "display_data"
    }
   ],
   "source": [
    "for i in range(28,42):\n",
    "    print(i)\n",
    "    \n",
    "    time = np.array(lsa_data[0][i][0])\n",
    "    k2l = np.array(lsa_data[0][i][1])\n",
    "    plt.plot(time, k2l)"
   ]
  },
  {
   "cell_type": "code",
   "execution_count": 36,
   "id": "39073769",
   "metadata": {},
   "outputs": [
    {
     "data": {
      "text/plain": [
       "'2023-11-12_03:12:34'"
      ]
     },
     "execution_count": 36,
     "metadata": {},
     "output_type": "execute_result"
    }
   ],
   "source": [
    "humanTime(closest_lsa_stamp)"
   ]
  },
  {
   "cell_type": "code",
   "execution_count": 38,
   "id": "a6f95174",
   "metadata": {},
   "outputs": [],
   "source": [
    "time, Trev = lsa_data[0][6]"
   ]
  },
  {
   "cell_type": "code",
   "execution_count": 39,
   "id": "8ba6fa44",
   "metadata": {},
   "outputs": [
    {
     "data": {
      "text/plain": [
       "[<matplotlib.lines.Line2D at 0x7ffb70a06f40>]"
      ]
     },
     "execution_count": 39,
     "metadata": {},
     "output_type": "execute_result"
    },
    {
     "data": {
      "image/png": "[encoded data removed]",
      "text/plain": [
       "<Figure size 432x288 with 1 Axes>"
      ]
     },
     "metadata": {
      "needs_background": "light"
     },
     "output_type": "display_data"
    }
   ],
   "source": [
    "plt.plot(time, Trev)"
   ]
  },
  {
   "cell_type": "code",
   "execution_count": 42,
   "id": "fa61d054",
   "metadata": {},
   "outputs": [
    {
     "data": {
      "text/plain": [
       "[1.0116876e-06,\n",
       " 1.0116876e-06,\n",
       " 1.0116876e-06,\n",
       " 1.0121504e-06,\n",
       " 1.0112251e-06,\n",
       " 1.0116876e-06,\n",
       " 1.0116876e-06,\n",
       " 1.0116876e-06,\n",
       " None,\n",
       " None]"
      ]
     },
     "execution_count": 42,
     "metadata": {},
     "output_type": "execute_result"
    }
   ],
   "source": [
    "Trev[-10:]"
   ]
  },
  {
   "cell_type": "code",
   "execution_count": 43,
   "id": "4d652e74",
   "metadata": {},
   "outputs": [
    {
     "data": {
      "text/plain": [
       "84.30729999999998"
      ]
     },
     "execution_count": 43,
     "metadata": {},
     "output_type": "execute_result"
    }
   ],
   "source": [
    "1.0116876e-06 * 1e9 / 12"
   ]
  },
  {
   "cell_type": "code",
   "execution_count": null,
   "id": "38aaa7ba",
   "metadata": {},
   "outputs": [],
   "source": []
  }
 ],
 "metadata": {
  "@webio": {
   "lastCommId": null,
   "lastKernelId": null
  },
  "kernelspec": {
   "display_name": "Python 3 (ipykernel)",
   "language": "python",
   "name": "python3"
  },
  "language_info": {
   "codemirror_mode": {
    "name": "ipython",
    "version": 3
   },
   "file_extension": ".py",
   "mimetype": "text/x-python",
   "name": "python",
   "nbconvert_exporter": "python",
   "pygments_lexer": "ipython3",
   "version": "3.8.10"
  }
 },
 "nbformat": 4,
 "nbformat_minor": 5
}
