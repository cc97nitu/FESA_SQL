{
 "cells": [
  {
   "cell_type": "markdown",
   "id": "b4d45613-7e0a-43b9-8a1a-690cebfa8bda",
   "metadata": {},
   "source": [
    "### imports"
   ]
  },
  {
   "cell_type": "code",
   "execution_count": null,
   "id": "ed7340cd-bbb9-4951-807b-deac7681f05b",
   "metadata": {},
   "outputs": [],
   "source": [
    "import pjlsa_gsipro as pjlsa\n",
    "\n",
    "import random\n",
    "import time\n",
    "import json\n",
    "from datetime import datetime\n",
    "\n",
    "import psycopg2\n",
    "import numpy as np\n",
    "from scipy.interpolate import LinearNDInterpolator\n",
    "import matplotlib as mpl\n",
    "import matplotlib.pyplot as plt\n",
    "\n",
    "%matplotlib inline  "
   ]
  },
  {
   "cell_type": "code",
   "execution_count": null,
   "id": "62bb48d9-c1b7-459a-9484-e82a16f40323",
   "metadata": {},
   "outputs": [],
   "source": [
    "from pyda import SimpleClient\n",
    "from pyda.data import DataFilter, TimingSelector\n",
    "from pyda_rda3 import RdaProvider"
   ]
  },
  {
   "cell_type": "code",
   "execution_count": null,
   "id": "b8adafb4-07a1-4179-8d3d-78cd89616b23",
   "metadata": {},
   "outputs": [],
   "source": [
    "import jpype\n",
    "with pjlsa.LSAClientGSI().java_api():\n",
    "    from cern.lsa.client import ServiceLocator, ContextService, ParameterService, TrimService, SettingService\n",
    "    from cern.accsoft.commons.value import ValueFactory\n",
    "    from cern.lsa.domain.settings import TrimRequest, ContextSettingsRequest, Settings, SettingPartEnum\n",
    "    from cern.lsa.domain.settings.type import  BeamProcessPurposes\n",
    "    from de.gsi.lsa.domain.settings import GsiBeamProcessPurpose\n",
    "    from java.util import Set, Collections"
   ]
  },
  {
   "cell_type": "code",
   "execution_count": null,
   "id": "53281194-88f1-44d7-8e60-03301d15c49c",
   "metadata": {},
   "outputs": [],
   "source": [
    "ts = ServiceLocator.getService(TrimService)\n",
    "cs = ServiceLocator.getService(ContextService)\n",
    "ps = ServiceLocator.getService(ParameterService)\n",
    "ss = ServiceLocator.getService(SettingService)"
   ]
  },
  {
   "cell_type": "code",
   "execution_count": null,
   "id": "93b9d8d0-7961-4588-a566-f9b2318e7133",
   "metadata": {},
   "outputs": [],
   "source": [
    "TERMINAL_COLORS = [\n",
    "\"\\u001b[31m\", \"\\u001b[32m\", \"\\u001b[33m\", \"\\u001b[34m\", \"\\u001b[35m\", \"\\u001b[36m\", \"\\u001b[37m\", \"\\u001b[31;1m\", \"\\u001b[32;1m\", \"\\u001b[33;1m\", \"\\u001b[34;1m\", \"\\u001b[35;1m\",\n",
    "]\n",
    "\n",
    "TERMINAL_COLOR_RESET = \"\\u001b[0m\"\n"
   ]
  },
  {
   "cell_type": "markdown",
   "id": "728ff0af-df24-4030-99f6-a5c7ae9eebea",
   "metadata": {},
   "source": [
    "## fetch pattern and related beam processes"
   ]
  },
  {
   "cell_type": "code",
   "execution_count": null,
   "id": "8a198269-b034-4331-b722-0fa3ba37fc27",
   "metadata": {},
   "outputs": [],
   "source": [
    "# pattern = cs.findPattern(\"SCRATCH_RM_SIS18_PYTHON_TEST_20220728_124253\")\n",
    "\n",
    "# pattern = cs.findPattern(\"SIS18_FAST_HHD_12C6_HOCHSTROM_4H1\")\n",
    "# pattern = cs.findPattern(\"SIS18_SLOW_HHD_Langsam\")\n",
    "# pattern = cs.findPattern(\"SIS18_FAST_HHD_20231109_EXP\")\n",
    "# pattern = cs.findPattern(\"SIS18_SLOW_HADES_20231106_171354\")\n",
    "pattern = cs.findPattern(\"SIS18_FAST_HHD_20231111_221700\")\n",
    "# pattern = cs.findPattern(\"SIS18_FAST_HHD_20231112_042341\")\n"
   ]
  },
  {
   "cell_type": "code",
   "execution_count": null,
   "id": "81b9238c-8aaa-4958-9d97-acf8eb663f55",
   "metadata": {},
   "outputs": [],
   "source": [
    "beamProcesses = list(pattern.getBeamProcesses())\n",
    "\n",
    "for i, p in enumerate(beamProcesses):\n",
    "    print(i, p.getName())"
   ]
  },
  {
   "cell_type": "markdown",
   "id": "8355ac61-8edc-4ed9-b2e6-4aa883d0dceb",
   "metadata": {},
   "source": [
    "### beam process for tunescan"
   ]
  },
  {
   "cell_type": "code",
   "execution_count": null,
   "id": "d52a69e0-af82-436d-a4a2-83b84d249da8",
   "metadata": {},
   "outputs": [],
   "source": [
    "beamProcess_to_trim_id = 13\n",
    "beamProcess_to_trim = beamProcesses[beamProcess_to_trim_id]\n",
    "process_length = beamProcess_to_trim.getLength()  # ns\n",
    "print(\"trim process {} has length {} ms\".format(beamProcess_to_trim.getName(), process_length / 1e6))\n",
    "\n",
    "parameterList = [\n",
    "    ps.findParameterByName(p) for p in [\"SIS18BEAM/QH\",\"SIS18BEAM/QV\",]\n",
    "]"
   ]
  },
  {
   "cell_type": "markdown",
   "id": "5f64a574-0bb7-4e73-b2ea-f47c2297095c",
   "metadata": {},
   "source": [
    "###### fetch process length & tune settings"
   ]
  },
  {
   "cell_type": "code",
   "execution_count": null,
   "id": "a57213e9-3ee6-43aa-a9e9-03f4939acdab",
   "metadata": {
    "scrolled": true
   },
   "outputs": [],
   "source": [
    "tuneSettings = ss.findContextSettings(\n",
    "        ContextSettingsRequest.byStandAloneContextAndParameters(beamProcess_to_trim, Set.of(parameterList))\n",
    "    )\n",
    "\n",
    "tuneSettings_values = list()\n",
    "for p in parameterList:\n",
    "    df = Settings.getFunction(tuneSettings, p) \n",
    "    val = np.array((df.toXArray(), df.toYArray(),))\n",
    "    tuneSettings_values.append(val)"
   ]
  },
  {
   "cell_type": "code",
   "execution_count": null,
   "id": "eada654e-abb3-4b27-b342-5a5299e9eedd",
   "metadata": {},
   "outputs": [],
   "source": [
    "process_length"
   ]
  },
  {
   "cell_type": "markdown",
   "id": "885aaf11-3e89-4670-acd7-80f633d58d34",
   "metadata": {},
   "source": [
    "# Tunescan"
   ]
  },
  {
   "cell_type": "markdown",
   "id": "e605b95e-06de-4783-bf6d-71426be97b4a",
   "metadata": {
    "jp-MarkdownHeadingCollapsed": true
   },
   "source": [
    "#### helper functions"
   ]
  },
  {
   "cell_type": "code",
   "execution_count": null,
   "id": "f2d265a1-7b94-4b59-80ff-f8cc68ad52b7",
   "metadata": {},
   "outputs": [],
   "source": [
    "def get_tunePoints(qx_start, qx_end, qy_start, qy_end, tuneSettings_values=tuneSettings_values):\n",
    "    tunePoints = [\n",
    "        [tuneSettings_values[0][1,0], qx_start, qx_end, tuneSettings_values[0][1,1],],\n",
    "        [tuneSettings_values[1][1,0], qy_start, qy_end, tuneSettings_values[1][1,1],],\n",
    "    ]\n",
    "\n",
    "    return tunePoints"
   ]
  },
  {
   "cell_type": "code",
   "execution_count": null,
   "id": "db799b05-8539-4ea9-9616-311890db844d",
   "metadata": {},
   "outputs": [],
   "source": [
    "def set_tunes(timePoints, tunePoints, pattern=pattern, parameterList=parameterList):\n",
    "    trimRequestBuilder = TrimRequest.builder()\n",
    "    trimRequestBuilder.setSettingPart(SettingPartEnum.TARGET)\n",
    "    trimRequestBuilder.setDescription(\"Tunescan, CC\")\n",
    "    \n",
    "    patternSettings = ss.findContextSettings(\n",
    "            ContextSettingsRequest.byStandAloneContextAndParameters(pattern, Set.of(parameterList))\n",
    "    )\n",
    "\n",
    "    print(type(patternSettings))\n",
    "    for parameter, parValues in zip(parameterList, tunePoints):\n",
    "        parameterSettings = patternSettings.getParameterSettings(parameter)\n",
    "                \n",
    "        bpSetting = parameterSettings.getSetting(beamProcess_to_trim)\n",
    "        discreteFunction = ValueFactory.createFunction(jpype.JArray(float)(timePoints), jpype.JArray(float)(parValues))\n",
    "        bpSetting.updateValue(discreteFunction, SettingPartEnum.TARGET)\n",
    "        trimRequestBuilder.addSetting(bpSetting)\n",
    "    \n",
    "    trimRequest = trimRequestBuilder.build()\n",
    "    ts.trimSettings(trimRequest)"
   ]
  },
  {
   "cell_type": "code",
   "execution_count": null,
   "id": "ea4fdfb7-4e32-4f6f-8eb6-d7497324aa3c",
   "metadata": {},
   "outputs": [],
   "source": [
    "def get_tunePoints_tuneScan(qx_min, qx_max, qy_min, qy_max, direction: str,\n",
    "                      numSweeps: int = 25, tuneSettings_values=tuneSettings_values):\n",
    "    if not direction in [\"horizontallyUpwards\", \"horizontallyDownwards\", \"verticallyUpwards\", \"verticallyDownwards\"]:\n",
    "        raise ValueError(\"invalid scan direction\")\n",
    "\n",
    "    all_tunePoints = list()\n",
    "    if direction == \"horizontallyUpwards\":\n",
    "        verticalTunes = np.linspace(qy_min, qy_max, numSweeps)   \n",
    "        for qy in verticalTunes:\n",
    "            all_tunePoints.append(get_tunePoints(qx_min, qx_max, qy, qy))\n",
    "        \n",
    "    elif direction == \"horizontallyDownwards\":\n",
    "        verticalTunes = np.linspace(qy_min, qy_max, numSweeps)   \n",
    "        for qy in verticalTunes:\n",
    "            all_tunePoints.append(get_tunePoints(qx_max, qx_min, qy, qy))\n",
    "\n",
    "    elif direction == \"verticallyUpwards\":\n",
    "        horizontalTunes = np.linspace(qx_min, qx_max, numSweeps)   \n",
    "        for qx in horizontalTunes:\n",
    "            all_tunePoints.append(get_tunePoints(qx, qx, qy_min, qy_max))\n",
    "\n",
    "    elif direction == \"verticallyDownwards\":\n",
    "        horizontalTunes = np.linspace(qx_min, qx_max, numSweeps)   \n",
    "        for qx in horizontalTunes:\n",
    "            all_tunePoints.append(get_tunePoints(qx, qx, qy_max, qy_min))\n",
    "\n",
    "    else:\n",
    "        raise ValueError(\"invalid scan direction\")\n",
    "\n",
    "    return all_tunePoints"
   ]
  },
  {
   "cell_type": "code",
   "execution_count": null,
   "id": "4b3b9bd4-f57f-479e-b12d-d3a8a8e19dde",
   "metadata": {},
   "outputs": [],
   "source": [
    "class TuneScan(dict):\n",
    "    def __init__(self, timePoints, qx_min, qx_max, qy_min, qy_max, direction, numSweeps):\n",
    "        self[\"timePoints\"] = timePoints\n",
    "        self[\"qx_min\"] = qx_min\n",
    "        self[\"qx_max\"] = qx_max\n",
    "        self[\"qy_min\"] = qy_min\n",
    "        self[\"qy_max\"] = qy_max\n",
    "        self[\"direction\"] = direction\n",
    "        self[\"numSweeps\"] = numSweeps\n",
    "\n",
    "        self[\"all_tunePoints\"] = get_tunePoints_tuneScan(qx_min, qx_max, qy_min, qy_max, direction, numSweeps)\n",
    "\n",
    "        return\n",
    "\n",
    "    def run(self, shotCount):\n",
    "        self[\"startTime\"] = int(time.time() * 1e9)\n",
    "        self[\"stopTime\"] = None\n",
    "        \n",
    "        tuneScan_results = dict()\n",
    "        for tune_idx, tunePoints in enumerate(tuneScan[\"all_tunePoints\"]):\n",
    "            # send to hardware\n",
    "            print(\"perform trim\")\n",
    "            set_tunes(timePoints, tunePoints)\n",
    "        \n",
    "            # listen to DCCT\n",
    "            client = SimpleClient(provider=RdaProvider())\n",
    "            subscription = client.subscribe(\n",
    "                PROPERTY_NAME,\n",
    "                context=[\n",
    "                    TimingSelector(FAIR_SELECTOR),\n",
    "                    DATA_FILTER \n",
    "                ],\n",
    "            )\n",
    "        \n",
    "            intensities = list()\n",
    "            print(\"subscribing\")\n",
    "            for iteration, response in enumerate(subscription):\n",
    "                if iteration == 0:\n",
    "                    # old, potentially fake data\n",
    "                    continue\n",
    "                \n",
    "                ts = response.value[\"acquisitionStamp\"] / 1e9\n",
    "                ts_datetime = datetime.utcfromtimestamp(ts).strftime('%Y-%m-%d %H:%M:%S')\n",
    "        \n",
    "                intensities.append(response.value[\"intensity\"].tolist())\n",
    "                \n",
    "                print(TERMINAL_COLORS[1] + \"DCCT\" + \n",
    "                      \" received S={}:P={}\".format(response.value[\"sequenceIndex\"], response.value[\"processIndex\"]) +\n",
    "                      \"    \" + ts_datetime +\n",
    "                      TERMINAL_COLOR_RESET)\n",
    "        \n",
    "                if iteration == shotCount:\n",
    "                    tuneScan_results[str(tune_idx)] = intensities\n",
    "                    break\n",
    "\n",
    "        self[\"tuneScan_results\"] = tuneScan_results\n",
    "        self[\"stopTime\"] = int(time.time() * 1e9)\n",
    "\n",
    "        return"
   ]
  },
  {
   "cell_type": "code",
   "execution_count": null,
   "id": "352c81cb-31af-46ef-9564-bf0b00b8acba",
   "metadata": {},
   "outputs": [],
   "source": [
    "PROPERTY_NAME = \"GS09DT_ML/Acquisition\"\n",
    "DATA_FILTER = DataFilter(requestPartialData=False,frequencyFilter=np.int32(2))"
   ]
  },
  {
   "cell_type": "markdown",
   "id": "b8e24fce-2f7d-4f26-9b41-ecb736e5ec5f",
   "metadata": {},
   "source": [
    "## perform scan"
   ]
  },
  {
   "cell_type": "code",
   "execution_count": null,
   "id": "3b8544e8-ce26-4d73-b4c2-bdcb130f7bd2",
   "metadata": {},
   "outputs": [],
   "source": [
    "FAIR_SELECTOR = beamProcess_to_trim.getUser()\n",
    "FAIR_SELECTOR"
   ]
  },
  {
   "cell_type": "code",
   "execution_count": null,
   "id": "5af4886d-3162-4961-9f50-59c029222225",
   "metadata": {},
   "outputs": [],
   "source": [
    "beamProcess_to_trim.getLength()"
   ]
  },
  {
   "cell_type": "code",
   "execution_count": null,
   "id": "2e356f9a-aad8-4ca9-8e01-18524a622312",
   "metadata": {},
   "outputs": [],
   "source": [
    "scanLength = 1.7  # s\n",
    "\n",
    "tuneScan_length = scanLength * 1e6 # μs\n",
    "tuneRamp_length = (process_length - tuneScan_length) / 2\n",
    "timePoints = [0, tuneRamp_length, process_length - tuneRamp_length, process_length]\n",
    "\n",
    "assert np.all(np.diff(timePoints) > 0), \"tune ramp too long\""
   ]
  },
  {
   "cell_type": "code",
   "execution_count": null,
   "id": "54e31aec-ee0b-4a7c-a606-ac80db20d74e",
   "metadata": {},
   "outputs": [],
   "source": [
    "tuneScan = TuneScan(timePoints, 4.01, 4.5, 3.01, 3.5, \"verticallyUpwards\", 35)"
   ]
  },
  {
   "cell_type": "code",
   "execution_count": null,
   "id": "17de27c1-e4b6-45b8-bc4e-6f2d214cfeed",
   "metadata": {},
   "outputs": [],
   "source": [
    "tuneScan.run(2)"
   ]
  },
  {
   "cell_type": "markdown",
   "id": "4528fab9-89a2-41a7-bbe7-3b9bd2bfb855",
   "metadata": {},
   "source": [
    "### dump"
   ]
  },
  {
   "cell_type": "markdown",
   "id": "88fd8f8c-7133-4d80-b9cc-54b4bc396d57",
   "metadata": {},
   "source": [
    "###### dump helper tools"
   ]
  },
  {
   "cell_type": "code",
   "execution_count": null,
   "id": "3da5af36-0267-413b-8ae2-e4493e9d1b95",
   "metadata": {},
   "outputs": [],
   "source": [
    "DBNAME = \"bpm_fesa_dump\"\n",
    "HOST = \"pgsql.gsi.de\"\n",
    "PORT = \"8646\"\n",
    "USER = \"bpm_fesa_dump_slave\"\n",
    "PASSWORD = \"kuwLMKTcAap6mKTP\""
   ]
  },
  {
   "cell_type": "code",
   "execution_count": null,
   "id": "d5f07b5f-8c3c-42f7-8213-3ef544085173",
   "metadata": {},
   "outputs": [],
   "source": [
    "insertionStatement = \"\"\"\n",
    "INSERT INTO\n",
    "    bpm_fesa_dump.tunescan (scanCompleted, scanStarted, qx_min, qx_max, qy_min, qy_max, direction, tuneScan)\n",
    "VALUES\n",
    "    (%s, %s, %s, %s, %s, %s, %s, %s)\n",
    ";\n",
    "\"\"\""
   ]
  },
  {
   "cell_type": "markdown",
   "id": "15207932-732e-4391-a1d8-5c2ad30b18a9",
   "metadata": {},
   "source": [
    "#### json file"
   ]
  },
  {
   "cell_type": "code",
   "execution_count": null,
   "id": "1592f9ff-4876-4a54-8380-96191b554d63",
   "metadata": {},
   "outputs": [],
   "source": [
    "fileName = \"/home/bphy/ccaliari/lnx/Tunescan/Tunescan_Results/tunescan_{}_{}_{}_{}.json\".format(\n",
    "    int(time.time() * 1e9), datetime.now().strftime(\"%Y-%m-%d\"), tuneScan[\"direction\"], datetime.now().strftime(\"%H:%M:%S\")\n",
    ")\n",
    "\n",
    "with open(fileName, \"w\") as file:\n",
    "    json.dump(tuneScan, file)\n",
    "\n",
    "\"wrote file to {}\".format(fileName)"
   ]
  },
  {
   "cell_type": "markdown",
   "id": "ca6f589c-e6a7-41fd-8f4c-27014d7dcd3c",
   "metadata": {},
   "source": [
    "##### SQL"
   ]
  },
  {
   "cell_type": "code",
   "execution_count": null,
   "id": "a528fd8f-be13-43f3-ba55-e3e30b65504b",
   "metadata": {},
   "outputs": [],
   "source": [
    "try:\n",
    "    dbcon = psycopg2.connect(\"dbname=\"+DBNAME + \" user=\" + USER + \" host=\" + HOST + \" port=\" + PORT + \" password=\" + PASSWORD)\n",
    "except Exception as e:\n",
    "    print(\"Unable to connect to database\")\n",
    "    print(e)\n",
    "\n",
    "crsr = dbcon.cursor()\n",
    "\n",
    "values = [tuneScan[\"stopTime\"], tuneScan[\"startTime\"],\n",
    "          tuneScan[\"qx_min\"], tuneScan[\"qx_max\"], tuneScan[\"qy_min\"], tuneScan[\"qy_max\"],\n",
    "          tuneScan[\"direction\"], json.dumps(tuneScan)]\n",
    "crsr.execute(insertionStatement, values)\n",
    "dbcon.commit()\n",
    "\n",
    "dbcon.close()"
   ]
  },
  {
   "cell_type": "markdown",
   "id": "232138dc-5a11-4632-8a8d-e7e7968fbc7d",
   "metadata": {},
   "source": [
    "# plot result"
   ]
  },
  {
   "cell_type": "code",
   "execution_count": null,
   "id": "4a42e2d7-4312-4026-9cc4-322634d987eb",
   "metadata": {},
   "outputs": [],
   "source": [
    "def crop_signal(timePoints, signal):\n",
    "    time_recording = np.linspace(0, timePoints[3] - timePoints[0], len(signal))\n",
    "\n",
    "    time_scan = np.linspace(timePoints[1], timePoints[2], round(\n",
    "        (timePoints[2] - timePoints[1]) / (timePoints[3] - timePoints[0]) * len(signal)\n",
    "    ),)\n",
    "\n",
    "    interp = np.interp(time_scan, time_recording, signal)\n",
    "\n",
    "    return time_scan, interp"
   ]
  },
  {
   "cell_type": "code",
   "execution_count": null,
   "id": "6e70e6ae-1a86-4c1e-9990-b30c4dc4d5a2",
   "metadata": {},
   "outputs": [],
   "source": [
    "def interpolate_tuneScan_results(tuneScan):\n",
    "    timePoints, tuneScan_results = tuneScan[\"timePoints\"], tuneScan[\"tuneScan_results\"]\n",
    "    \n",
    "    samples, labels = list(), list()\n",
    "    for idx, tunePoints in enumerate(np.array(tuneScan[\"all_tunePoints\"])):\n",
    "        shots = [crop_signal(timePoints, s)[1] for s in tuneScan_results[str(idx)]]\n",
    "    \n",
    "        for i in range(len(shots)):\n",
    "            # normalize intensity\n",
    "            shots[i] = shots[i] / shots[i][0]\n",
    "    \n",
    "            # differentiate\n",
    "            shots[i] = np.diff(shots[i])\n",
    "    \n",
    "        shots = np.array(shots).mean(axis=0)\n",
    "        \n",
    "        qx_range = np.linspace(tunePoints[0][1], tunePoints[0][2], len(shots))\n",
    "        qy_range = np.linspace(tunePoints[1][1], tunePoints[1][2], len(shots))\n",
    "    \n",
    "        for i in range(shots.shape[0]):\n",
    "            samples.append((qx_range[i], qy_range[i]),)\n",
    "            labels.append(shots[i])\n",
    "\n",
    "    return LinearNDInterpolator(samples, labels)"
   ]
  },
  {
   "cell_type": "code",
   "execution_count": null,
   "id": "e851f235-7d4a-49f4-b1f1-ec54b69940ec",
   "metadata": {},
   "outputs": [],
   "source": [
    "interp = interpolate_tuneScan_results(tuneScan)"
   ]
  },
  {
   "cell_type": "code",
   "execution_count": null,
   "id": "060c0cdd-b23b-49e9-93dc-615ae4bb29b9",
   "metadata": {},
   "outputs": [],
   "source": [
    "qx_range = np.linspace(tuneScan[\"qx_min\"], tuneScan[\"qx_max\"], 20)\n",
    "qy_range = np.linspace(tuneScan[\"qy_min\"], tuneScan[\"qy_max\"], 20)\n",
    "qx_range, qy_range = np.meshgrid(qx_range, qy_range)\n",
    "\n",
    "result_scanInterpolated = interp(qx_range, qy_range)"
   ]
  },
  {
   "cell_type": "code",
   "execution_count": null,
   "id": "b3b58476-f6e9-4a1f-a3c8-155fa1515d14",
   "metadata": {},
   "outputs": [],
   "source": [
    "fig, ax = plt.subplots()\n",
    "\n",
    "# norm = mpl.colors.Normalize(vmin=0, vmax=0.01)\n",
    "pcm = ax.pcolormesh(qx_range, qy_range, np.abs(result_scanInterpolated),\n",
    "                   )\n",
    "\n",
    "cbar = fig.colorbar(pcm)\n",
    "\n",
    "# make nice\n",
    "ax.set_xlabel(\"hor. tune\")\n",
    "ax.set_ylabel(\"ver. tune\")\n",
    "cbar.set_label(r\"$\\frac{1}{I} \\cdot \\frac{\\partial I}{\\partial t}$\")"
   ]
  },
  {
   "cell_type": "markdown",
   "id": "1b664b91-f0c8-40ef-988a-96f858ed43cc",
   "metadata": {},
   "source": [
    "# debug"
   ]
  },
  {
   "cell_type": "code",
   "execution_count": null,
   "id": "f39fdc75-7e4e-4592-bf8b-2ec511326e0c",
   "metadata": {},
   "outputs": [],
   "source": [
    "plottable = np.abs(result_scanInterpolated)"
   ]
  },
  {
   "cell_type": "code",
   "execution_count": null,
   "id": "c42f5734-05d9-4cde-aead-5b69232ee506",
   "metadata": {},
   "outputs": [],
   "source": [
    "plt.hist(plottable)"
   ]
  },
  {
   "cell_type": "code",
   "execution_count": null,
   "id": "4ff6bc60-3e79-49a6-b776-0a0e73263f0a",
   "metadata": {},
   "outputs": [],
   "source": [
    "idx = 5\n",
    "\n",
    "tuneScan_results = tuneScan[\"tuneScan_results\"]\n",
    "\n",
    "shots = [crop_signal(timePoints, s)[1] for s in tuneScan_results[str(idx)]]"
   ]
  },
  {
   "cell_type": "code",
   "execution_count": null,
   "id": "8f6515aa-e4af-4129-98db-081d9ae374c3",
   "metadata": {},
   "outputs": [],
   "source": []
  },
  {
   "cell_type": "code",
   "execution_count": null,
   "id": "80448f15-6608-4ac5-9cdb-4acc3a597ac8",
   "metadata": {},
   "outputs": [],
   "source": []
  }
 ],
 "metadata": {
  "@webio": {
   "lastCommId": null,
   "lastKernelId": null
  },
  "kernelspec": {
   "display_name": "Python 3 (ipykernel)",
   "language": "python",
   "name": "python3"
  },
  "language_info": {
   "codemirror_mode": {
    "name": "ipython",
    "version": 3
   },
   "file_extension": ".py",
   "mimetype": "text/x-python",
   "name": "python",
   "nbconvert_exporter": "python",
   "pygments_lexer": "ipython3",
   "version": "3.8.10"
  }
 },
 "nbformat": 4,
 "nbformat_minor": 5
}
