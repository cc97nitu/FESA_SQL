{
 "cells": [
  {
   "cell_type": "code",
   "execution_count": 21,
   "id": "eca052fe",
   "metadata": {},
   "outputs": [],
   "source": [
    "import numpy as np\n",
    "import matplotlib.pyplot as plt\n",
    "import psycopg2\n",
    "\n",
    "from datetime import datetime, timezone"
   ]
  },
  {
   "cell_type": "markdown",
   "id": "968a3d59",
   "metadata": {},
   "source": [
    "### SQL settings"
   ]
  },
  {
   "cell_type": "code",
   "execution_count": 22,
   "id": "5da13424",
   "metadata": {},
   "outputs": [],
   "source": [
    "DBNAME = \"fesa_test\"\n",
    "HOST = \"140.181.85.66\"\n",
    "PORT = \"54321\"\n",
    "USER = \"fesa_tester\"\n",
    "PASSWORD = \"save_bpm\""
   ]
  },
  {
   "cell_type": "code",
   "execution_count": 23,
   "id": "d6cb3c50",
   "metadata": {},
   "outputs": [],
   "source": [
    "try:\n",
    "    dbcon = psycopg2.connect(\"dbname=\"+DBNAME + \" user=\" + USER + \" host=\" + HOST + \" port=\" + PORT + \" password=\" + PASSWORD)\n",
    "except Exception as e:\n",
    "    print(\"Unable to connect to database\")\n",
    "    print(e)\n",
    "\n",
    "crsr = dbcon.cursor()"
   ]
  },
  {
   "cell_type": "markdown",
   "id": "604763e1",
   "metadata": {},
   "source": [
    "### Sequence start"
   ]
  },
  {
   "cell_type": "code",
   "execution_count": 24,
   "id": "32d16118",
   "metadata": {},
   "outputs": [],
   "source": [
    "def stamp2time(stamp):\n",
    "    ts = stamp / 1e9\n",
    "    return datetime.utcfromtimestamp(ts).strftime('%Y-%m-%d %H:%M:%S.%f')"
   ]
  },
  {
   "cell_type": "code",
   "execution_count": 25,
   "id": "2911e70a",
   "metadata": {},
   "outputs": [],
   "source": [
    "def fetch_sequenceStartStamp(crsr=crsr):\n",
    "    stamps = crsr.execute(\"SELECT sequenceStartStamp FROM gs01dx_acquisition;\")\n",
    "    \n",
    "    return crsr.fetchall()"
   ]
  },
  {
   "cell_type": "code",
   "execution_count": 26,
   "id": "2bb9443c",
   "metadata": {},
   "outputs": [
    {
     "data": {
      "text/plain": [
       "'1970-01-01 00:00:00.000000'"
      ]
     },
     "execution_count": 26,
     "metadata": {},
     "output_type": "execute_result"
    }
   ],
   "source": [
    "stamps = fetch_sequenceStartStamp()\n",
    "first_record = stamps[0][0]\n",
    "last_record = stamps[-1][0]\n",
    "\n",
    "stamp2time(last_record)"
   ]
  },
  {
   "cell_type": "markdown",
   "id": "e5e1bdbf",
   "metadata": {},
   "source": [
    "# Read BPM"
   ]
  },
  {
   "cell_type": "code",
   "execution_count": 27,
   "id": "b3eea83b",
   "metadata": {
    "scrolled": true
   },
   "outputs": [],
   "source": [
    "date = \"2023-10-25\"\n",
    "# time = \"08:21:35.0\"\n",
    "time = \"12:22:19.0\""
   ]
  },
  {
   "cell_type": "code",
   "execution_count": 28,
   "id": "16f0d7f9",
   "metadata": {},
   "outputs": [],
   "source": [
    "time_datetime = datetime.strptime(\" \".join([date,time]), '%Y-%m-%d %H:%M:%S.%f').replace(tzinfo=timezone.utc)\n",
    "stamp_given = int(time_datetime.timestamp() * 1e9)\n",
    "\n",
    "stamps_arr = np.array(stamps).squeeze(axis=1)\n",
    "idx_closest_stamp = np.abs(stamps_arr - stamp_given).argmin()"
   ]
  },
  {
   "cell_type": "code",
   "execution_count": 29,
   "id": "206fb097",
   "metadata": {},
   "outputs": [
    {
     "data": {
      "text/plain": [
       "0"
      ]
     },
     "execution_count": 29,
     "metadata": {},
     "output_type": "execute_result"
    }
   ],
   "source": [
    "idx_closest_stamp"
   ]
  },
  {
   "cell_type": "markdown",
   "id": "7cf7068c",
   "metadata": {},
   "source": [
    "###### selected cycle"
   ]
  },
  {
   "cell_type": "code",
   "execution_count": 30,
   "id": "e89eb24e",
   "metadata": {
    "scrolled": false
   },
   "outputs": [
    {
     "data": {
      "text/plain": [
       "'2023-10-25 13:49:31.208560'"
      ]
     },
     "execution_count": 30,
     "metadata": {},
     "output_type": "execute_result"
    }
   ],
   "source": [
    "display_stamp = stamps_arr[idx_closest_stamp]\n",
    "\n",
    "stamp2time(display_stamp)"
   ]
  },
  {
   "cell_type": "markdown",
   "id": "e6e06249",
   "metadata": {},
   "source": [
    "# fetch beamPosition for sequenceStartStamp"
   ]
  },
  {
   "cell_type": "code",
   "execution_count": 31,
   "id": "a2fd0f71",
   "metadata": {},
   "outputs": [],
   "source": [
    "def bpmReadings_demasked(no_bpm: int, sequenceStartStamp: int, crsr=crsr):\n",
    "    statement = \"\"\"\n",
    "    SELECT\n",
    "        processIndex, beamPosition, beamPosition_dim3_labels, processStartStamp\n",
    "    FROM\n",
    "        gs{:02d}dx_acquisition\n",
    "    WHERE\n",
    "        sequenceStartStamp = %s\n",
    "    ORDER BY\n",
    "        processStartStamp\n",
    ";\n",
    "    \"\"\".format(no_bpm)\n",
    "    \n",
    "    crsr.execute(statement, [int(sequenceStartStamp),])\n",
    "    data = crsr.fetchall()\n",
    "    \n",
    "    assert len(data) > 0, \"nothing selected\"\n",
    "    \n",
    "    # flatten over all beamprocesses in this pattern\n",
    "    x_raw, y_raw, time = list(), list(), list()\n",
    "    for process in data:\n",
    "        timepoints = len(process[2])\n",
    "        time += process[2]\n",
    "        \n",
    "        assert 4*timepoints == len(process[1]), \"mask assumption wrong\"\n",
    "        \n",
    "        x = process[1][0:timepoints]\n",
    "        y = process[1][2*timepoints:3*timepoints]\n",
    "        \n",
    "        x_raw += x\n",
    "        y_raw += y\n",
    "        \n",
    "    return np.array(x_raw), np.array(y_raw), np.array(time)"
   ]
  },
  {
   "cell_type": "code",
   "execution_count": 32,
   "id": "6d45f86d",
   "metadata": {},
   "outputs": [],
   "source": [
    "def findKickTime(x_raw, y_raw, time, harmonic_number: int):\n",
    "    ######## implement some criterion to locate kick\n",
    "    \n",
    "    ##### fake \n",
    "    l = len(time)\n",
    "    kick_times = time[l//2:l//2+harmonic_number]\n",
    "\n",
    "    # calculate revolution period\n",
    "    Trev = time[l//2 + harmonic_number] - time[l//2]\n",
    "    \n",
    "    return kick_times, Trev"
   ]
  },
  {
   "cell_type": "markdown",
   "id": "82ee0b29",
   "metadata": {},
   "source": [
    "### fetch"
   ]
  },
  {
   "cell_type": "code",
   "execution_count": 33,
   "id": "675e07e9",
   "metadata": {},
   "outputs": [],
   "source": [
    "crsr.execute(\"\"\"\n",
    "    SELECT processIndex, beamPosition, beamPosition_dim3_labels, processStartStamp FROM gs01dx_acquisition WHERE sequenceStartStamp = %s\n",
    "    UNION\n",
    "    SELECT processIndex, beamPosition, beamPosition_dim3_labels, processStartStamp FROM gs02dx_acquisition WHERE sequenceStartStamp = %s\n",
    "    UNION\n",
    "    SELECT processIndex, beamPosition, beamPosition_dim3_labels, processStartStamp FROM gs03dx_acquisition WHERE sequenceStartStamp = %s\n",
    "    UNION\n",
    "    SELECT processIndex, beamPosition, beamPosition_dim3_labels, processStartStamp FROM gs04dx_acquisition WHERE sequenceStartStamp = %s\n",
    "    UNION\n",
    "    SELECT processIndex, beamPosition, beamPosition_dim3_labels, processStartStamp FROM gs05dx_acquisition WHERE sequenceStartStamp = %s\n",
    "    UNION\n",
    "    SELECT processIndex, beamPosition, beamPosition_dim3_labels, processStartStamp FROM gs06dx_acquisition WHERE sequenceStartStamp = %s\n",
    "    UNION\n",
    "    SELECT processIndex, beamPosition, beamPosition_dim3_labels, processStartStamp FROM gs07dx_acquisition WHERE sequenceStartStamp = %s\n",
    "    UNION\n",
    "    SELECT processIndex, beamPosition, beamPosition_dim3_labels, processStartStamp FROM gs08dx_acquisition WHERE sequenceStartStamp = %s\n",
    "    UNION\n",
    "    SELECT processIndex, beamPosition, beamPosition_dim3_labels, processStartStamp FROM gs09dx_acquisition WHERE sequenceStartStamp = %s\n",
    "    UNION\n",
    "    SELECT processIndex, beamPosition, beamPosition_dim3_labels, processStartStamp FROM gs10dx_acquisition WHERE sequenceStartStamp = %s\n",
    "    UNION\n",
    "    SELECT processIndex, beamPosition, beamPosition_dim3_labels, processStartStamp FROM gs11dx_acquisition WHERE sequenceStartStamp = %s\n",
    "    UNION\n",
    "    SELECT processIndex, beamPosition, beamPosition_dim3_labels, processStartStamp FROM gs12dx_acquisition WHERE sequenceStartStamp = %s\n",
    "    ;\n",
    "    \"\"\", [int(display_stamp) for _ in range(12)])\n",
    "data = crsr.fetchall()\n",
    "\n",
    "assert len(data) == 12, \"missing some BPMs\""
   ]
  },
  {
   "cell_type": "code",
   "execution_count": 34,
   "id": "34a29171",
   "metadata": {},
   "outputs": [],
   "source": [
    "harmonic_number = 4"
   ]
  },
  {
   "cell_type": "code",
   "execution_count": 35,
   "id": "597388e0",
   "metadata": {
    "scrolled": false
   },
   "outputs": [
    {
     "name": "stdout",
     "output_type": "stream",
     "text": [
      "found kick_times\n",
      "\n",
      " 5\n",
      "timestamp distance 1104\n",
      "minimum distance to kickTime 0\n",
      "minimum distance to retarded_kickTime 0.0\n",
      "diff 0.0\n",
      "minimum distance to kickTime 0\n",
      "minimum distance to retarded_kickTime 0.0\n",
      "diff 0.0\n",
      "minimum distance to kickTime 0\n",
      "minimum distance to retarded_kickTime 0.0\n",
      "diff 0.0\n",
      "minimum distance to kickTime 0\n",
      "minimum distance to retarded_kickTime 0.0\n",
      "diff 0.0\n",
      "\n",
      " 6\n",
      "timestamp distance 1104\n",
      "minimum distance to kickTime 0\n",
      "minimum distance to retarded_kickTime 256.0\n",
      "diff 256.0\n",
      "minimum distance to kickTime 0\n",
      "minimum distance to retarded_kickTime 256.0\n",
      "diff 256.0\n",
      "minimum distance to kickTime 0\n",
      "minimum distance to retarded_kickTime 256.0\n",
      "diff 256.0\n",
      "minimum distance to kickTime 0\n",
      "minimum distance to retarded_kickTime 256.0\n",
      "diff 256.0\n",
      "\n",
      " 7\n",
      "timestamp distance 1104\n",
      "minimum distance to kickTime 4\n",
      "minimum distance to retarded_kickTime 256.0\n",
      "diff 256.0\n",
      "minimum distance to kickTime 4\n",
      "minimum distance to retarded_kickTime 512.0\n",
      "diff 512.0\n",
      "minimum distance to kickTime 4\n",
      "minimum distance to retarded_kickTime 256.0\n",
      "diff 256.0\n",
      "minimum distance to kickTime 4\n",
      "minimum distance to retarded_kickTime 256.0\n",
      "diff 256.0\n",
      "\n",
      " 8\n",
      "timestamp distance 1104\n",
      "minimum distance to kickTime 0\n",
      "minimum distance to retarded_kickTime 0.0\n",
      "diff 0.0\n",
      "minimum distance to kickTime 0\n",
      "minimum distance to retarded_kickTime 256.0\n",
      "diff 256.0\n",
      "minimum distance to kickTime 0\n",
      "minimum distance to retarded_kickTime 0.0\n",
      "diff 0.0\n",
      "minimum distance to kickTime 0\n",
      "minimum distance to retarded_kickTime 0.0\n",
      "diff 0.0\n",
      "\n",
      " 9\n",
      "timestamp distance 1104\n",
      "minimum distance to kickTime 9604912\n",
      "minimum distance to retarded_kickTime 9606400.0\n",
      "diff 9606400.0\n",
      "minimum distance to kickTime 9606016\n",
      "minimum distance to retarded_kickTime 9607424.0\n",
      "diff 9607424.0\n",
      "minimum distance to kickTime 9607120\n",
      "minimum distance to retarded_kickTime 9608704.0\n",
      "diff 9608704.0\n",
      "minimum distance to kickTime 9608232\n",
      "minimum distance to retarded_kickTime 9609728.0\n",
      "diff 9609728.0\n",
      "\n",
      " 10\n",
      "timestamp distance 1104\n",
      "minimum distance to kickTime 9449076\n",
      "minimum distance to retarded_kickTime 9450752.0\n",
      "diff 9450752.0\n",
      "minimum distance to kickTime 9450180\n",
      "minimum distance to retarded_kickTime 9451776.0\n",
      "diff 9451776.0\n",
      "minimum distance to kickTime 9451284\n",
      "minimum distance to retarded_kickTime 9453056.0\n",
      "diff 9453056.0\n",
      "minimum distance to kickTime 9452396\n",
      "minimum distance to retarded_kickTime 9454080.0\n",
      "diff 9454080.0\n",
      "\n",
      " 11\n",
      "timestamp distance 1104\n",
      "minimum distance to kickTime 9308728\n",
      "minimum distance to retarded_kickTime 9310976.0\n",
      "diff 9310976.0\n",
      "minimum distance to kickTime 9309832\n",
      "minimum distance to retarded_kickTime 9312000.0\n",
      "diff 9312000.0\n",
      "minimum distance to kickTime 9310936\n",
      "minimum distance to retarded_kickTime 9313280.0\n",
      "diff 9313280.0\n",
      "minimum distance to kickTime 9312048\n",
      "minimum distance to retarded_kickTime 9314304.0\n",
      "diff 9314304.0\n",
      "\n",
      " 12\n",
      "timestamp distance 1104\n",
      "minimum distance to kickTime 9199316\n",
      "minimum distance to retarded_kickTime 9201920.0\n",
      "diff 9201920.0\n",
      "minimum distance to kickTime 9200420\n",
      "minimum distance to retarded_kickTime 9202944.0\n",
      "diff 9202944.0\n",
      "minimum distance to kickTime 9201524\n",
      "minimum distance to retarded_kickTime 9204224.0\n",
      "diff 9204224.0\n",
      "minimum distance to kickTime 9202636\n",
      "minimum distance to retarded_kickTime 9205248.0\n",
      "diff 9205248.0\n",
      "\n",
      " 1\n",
      "timestamp distance 1104\n",
      "minimum distance to kickTime 20\n",
      "minimum distance to retarded_kickTime 256.0\n",
      "diff 256.0\n",
      "minimum distance to kickTime 20\n",
      "minimum distance to retarded_kickTime 256.0\n",
      "diff 256.0\n",
      "minimum distance to kickTime 20\n",
      "minimum distance to retarded_kickTime 256.0\n",
      "diff 256.0\n",
      "minimum distance to kickTime 12\n",
      "minimum distance to retarded_kickTime 256.0\n",
      "diff 256.0\n",
      "\n",
      " 2\n",
      "timestamp distance 1104\n",
      "minimum distance to kickTime 20\n",
      "minimum distance to retarded_kickTime 0.0\n",
      "diff 0.0\n",
      "minimum distance to kickTime 20\n",
      "minimum distance to retarded_kickTime 0.0\n",
      "diff 0.0\n",
      "minimum distance to kickTime 20\n",
      "minimum distance to retarded_kickTime 0.0\n",
      "diff 0.0\n",
      "minimum distance to kickTime 12\n",
      "minimum distance to retarded_kickTime 0.0\n",
      "diff 0.0\n",
      "\n",
      " 3\n",
      "timestamp distance 1104\n",
      "minimum distance to kickTime 20\n",
      "minimum distance to retarded_kickTime 256.0\n",
      "diff 256.0\n",
      "minimum distance to kickTime 20\n",
      "minimum distance to retarded_kickTime 256.0\n",
      "diff 256.0\n",
      "minimum distance to kickTime 20\n",
      "minimum distance to retarded_kickTime 256.0\n",
      "diff 256.0\n",
      "minimum distance to kickTime 12\n",
      "minimum distance to retarded_kickTime 256.0\n",
      "diff 256.0\n",
      "\n",
      " 4\n",
      "timestamp distance 1104\n",
      "minimum distance to kickTime 20\n",
      "minimum distance to retarded_kickTime 256.0\n",
      "diff 256.0\n",
      "minimum distance to kickTime 20\n",
      "minimum distance to retarded_kickTime 512.0\n",
      "diff 512.0\n",
      "minimum distance to kickTime 20\n",
      "minimum distance to retarded_kickTime 256.0\n",
      "diff 256.0\n",
      "minimum distance to kickTime 12\n",
      "minimum distance to retarded_kickTime 256.0\n",
      "diff 256.0\n"
     ]
    }
   ],
   "source": [
    "trajectory = np.empty((12,3,1024))  # bpm starting from 5, x/y/time, window length\n",
    "\n",
    "for i, no_bpm in enumerate([5,6,7,8,9,10,11,12,1,2,3,4]):\n",
    "    x_raw, y_raw, time = bpmReadings_demasked(no_bpm, display_stamp)\n",
    "        \n",
    "    if no_bpm == 5:\n",
    "        kick_times, Trev = findKickTime(x_raw, y_raw, time, harmonic_number)\n",
    "        print(\"found kick_times\")\n",
    "    \n",
    "    print(\"\\n\", no_bpm)\n",
    "    print(\"timestamp distance\", time[1001] - time[1000])\n",
    "#     print(stamp2time(time[-1]))\n",
    "    \n",
    "    for no_bunch, kickTime in enumerate(kick_times):\n",
    "        retarded_kickTime = kickTime + i * Trev/12\n",
    "        assert retarded_kickTime >= kickTime\n",
    "        \n",
    "        kick_idx = np.abs(time - retarded_kickTime).argmin()\n",
    "        \n",
    "        print(\"minimum distance to kickTime\", np.abs(time - kickTime).min())\n",
    "        print(\"minimum distance to retarded_kickTime\", np.abs(time - retarded_kickTime).min())\n",
    "        print(\"diff\", abs(time[kick_idx] - retarded_kickTime))\n",
    "        \n",
    "#         assert abs(time[kick_idx] - retarded_kickTime) < Trev/12, \"kick_idx far away from kickTime\"\n",
    "#         assert np.abs(time - retarded_kickTime).min() < Trev/12, \"kick_idx far away from kickTime\"\n",
    "        \n",
    "        traj_mask = np.zeros(time.shape, dtype=bool)\n",
    "        traj_mask[kick_idx::harmonic_number] = True\n",
    "        \n",
    "        trajectory[i,0,:] = x_raw[traj_mask][:trajectory.shape[2]]\n",
    "        trajectory[i,1,:] = y_raw[traj_mask][:trajectory.shape[2]]\n",
    "        trajectory[i,2,:] = time[traj_mask][:trajectory.shape[2]]"
   ]
  },
  {
   "cell_type": "markdown",
   "id": "8a5ae924",
   "metadata": {},
   "source": [
    "# debug"
   ]
  },
  {
   "cell_type": "code",
   "execution_count": 36,
   "id": "40e7ee4f",
   "metadata": {},
   "outputs": [],
   "source": [
    "dbcon.reset()"
   ]
  },
  {
   "cell_type": "code",
   "execution_count": 37,
   "id": "748f3d4b",
   "metadata": {},
   "outputs": [
    {
     "data": {
      "text/plain": [
       "368.6666666666667"
      ]
     },
     "execution_count": 37,
     "metadata": {},
     "output_type": "execute_result"
    }
   ],
   "source": [
    "Trev/12"
   ]
  },
  {
   "cell_type": "code",
   "execution_count": 38,
   "id": "cfd6827c",
   "metadata": {},
   "outputs": [
    {
     "data": {
      "text/plain": [
       "array([[[ 8.0034165e-03,  6.3008370e-03,  2.5536683e-03, ...,\n",
       "          2.7166517e-03, -7.1852556e-03,  6.5168296e-04],\n",
       "        [ 1.5481304e-03, -6.3534360e-03,  1.6067014e-03, ...,\n",
       "         -2.6701610e-03,  2.0563684e-03, -6.3540270e-03]],\n",
       "\n",
       "       [[-3.4052308e-03, -3.6918342e-03, -4.4260197e-03, ...,\n",
       "          2.1275901e-03, -5.5359000e-03, -6.7073847e-03],\n",
       "        [-4.3771323e-03,  6.9663810e-03,  1.5748415e-02, ...,\n",
       "         -8.4155480e-03,  6.1064917e-03, -1.2882301e-02]],\n",
       "\n",
       "       [[ 2.3213793e-02,  5.2975020e-03,  1.3360818e-02, ...,\n",
       "          2.1465212e-02,  1.1551910e-02,  1.4972624e-02],\n",
       "        [ 9.9371366e-02,  9.9593244e-02,  9.8889900e-02, ...,\n",
       "          9.9165164e-02,  9.7618920e-02,  9.8587330e-02]],\n",
       "\n",
       "       ...,\n",
       "\n",
       "       [[-1.1796489e-02, -2.4019901e-03, -8.6014280e-03, ...,\n",
       "          7.7376590e-03,  1.3008982e-02, -9.7534690e-03],\n",
       "        [ 2.8071650e-02,  3.0641474e-02,  3.4621876e-02, ...,\n",
       "          3.8340690e-02,  3.2033470e-02,  3.6153484e-02]],\n",
       "\n",
       "       [[ 1.8065957e-03, -1.3080116e-02,  2.4557660e-03, ...,\n",
       "         -1.6101452e-03, -3.0186999e-05, -3.2027757e-03],\n",
       "        [ 1.2168734e-02,  1.4564288e-02, -2.3844717e-03, ...,\n",
       "         -1.6891344e-03, -7.8418720e-03,  8.3815055e-03]],\n",
       "\n",
       "       [[ 3.4686726e-02,  4.0003700e-02,  4.1980600e-02, ...,\n",
       "          3.4643830e-02,  3.1871133e-02,  4.0632736e-02],\n",
       "        [ 4.7468236e-03,  1.7593625e-04, -4.0926104e-03, ...,\n",
       "          5.1395740e-03, -2.6048487e-03, -5.7875860e-03]]])"
      ]
     },
     "execution_count": 38,
     "metadata": {},
     "output_type": "execute_result"
    }
   ],
   "source": [
    "trajectory[:,[0,1],:]"
   ]
  },
  {
   "cell_type": "code",
   "execution_count": 41,
   "id": "1dd27481",
   "metadata": {},
   "outputs": [
    {
     "data": {
      "text/plain": [
       "(10000,)"
      ]
     },
     "execution_count": 41,
     "metadata": {},
     "output_type": "execute_result"
    }
   ],
   "source": [
    "x_raw.shape"
   ]
  },
  {
   "cell_type": "code",
   "execution_count": null,
   "id": "0c367bdc",
   "metadata": {},
   "outputs": [],
   "source": []
  }
 ],
 "metadata": {
  "@webio": {
   "lastCommId": null,
   "lastKernelId": null
  },
  "kernelspec": {
   "display_name": "Python 3 (ipykernel)",
   "language": "python",
   "name": "python3"
  },
  "language_info": {
   "codemirror_mode": {
    "name": "ipython",
    "version": 3
   },
   "file_extension": ".py",
   "mimetype": "text/x-python",
   "name": "python",
   "nbconvert_exporter": "python",
   "pygments_lexer": "ipython3",
   "version": "3.8.10"
  }
 },
 "nbformat": 4,
 "nbformat_minor": 5
}
