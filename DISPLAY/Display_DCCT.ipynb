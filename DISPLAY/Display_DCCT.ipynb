{
 "cells": [
  {
   "cell_type": "code",
   "execution_count": 1,
   "id": "eca052fe",
   "metadata": {},
   "outputs": [],
   "source": [
    "import numpy as np\n",
    "import matplotlib.pyplot as plt\n",
    "import psycopg2\n",
    "\n",
    "from datetime import datetime, timezone"
   ]
  },
  {
   "cell_type": "code",
   "execution_count": 37,
   "id": "cd83e118",
   "metadata": {},
   "outputs": [],
   "source": [
    "def get_timings(p):    \n",
    "    m,b = np.polyfit([p[0,1],p[-1,1]], [0, p[-1,2]-p[0,2]], deg=1)\n",
    "\n",
    "    timings = lambda x: 1e-9 * (m * x + b)  # seconds\n",
    "    return timings"
   ]
  },
  {
   "cell_type": "markdown",
   "id": "968a3d59",
   "metadata": {},
   "source": [
    "### SQL settings"
   ]
  },
  {
   "cell_type": "code",
   "execution_count": 2,
   "id": "5da13424",
   "metadata": {},
   "outputs": [],
   "source": [
    "DBNAME = \"fesa_test\"\n",
    "HOST = \"140.181.85.66\"\n",
    "PORT = \"54321\"\n",
    "USER = \"fesa_tester\"\n",
    "PASSWORD = \"save_bpm\""
   ]
  },
  {
   "cell_type": "code",
   "execution_count": 3,
   "id": "d6cb3c50",
   "metadata": {},
   "outputs": [],
   "source": [
    "try:\n",
    "    dbcon = psycopg2.connect(\"dbname=\"+DBNAME + \" user=\" + USER + \" host=\" + HOST + \" port=\" + PORT + \" password=\" + PASSWORD)\n",
    "except Exception as e:\n",
    "    print(\"Unable to connect to database\")\n",
    "    print(e)\n",
    "\n",
    "crsr = dbcon.cursor()"
   ]
  },
  {
   "cell_type": "markdown",
   "id": "604763e1",
   "metadata": {},
   "source": [
    "### Sequence start"
   ]
  },
  {
   "cell_type": "code",
   "execution_count": 4,
   "id": "32d16118",
   "metadata": {},
   "outputs": [],
   "source": [
    "def stamp2time(stamp):\n",
    "    ts = stamp / 1e9\n",
    "    return datetime.utcfromtimestamp(ts).strftime('%Y-%m-%d %H:%M:%S.%f')"
   ]
  },
  {
   "cell_type": "code",
   "execution_count": 5,
   "id": "2911e70a",
   "metadata": {},
   "outputs": [],
   "source": [
    "def fetch_sequenceStartStamp(crsr=crsr):\n",
    "    stamps = crsr.execute(\"SELECT sequenceStartStamp FROM dcct;\")\n",
    "    \n",
    "    return crsr.fetchall()"
   ]
  },
  {
   "cell_type": "code",
   "execution_count": 6,
   "id": "2bb9443c",
   "metadata": {},
   "outputs": [
    {
     "data": {
      "text/plain": [
       "'2023-10-18 13:38:11.259820'"
      ]
     },
     "execution_count": 6,
     "metadata": {},
     "output_type": "execute_result"
    }
   ],
   "source": [
    "stamps = fetch_sequenceStartStamp()\n",
    "first_record = stamps[0][0]\n",
    "last_record = stamps[-1][0]\n",
    "\n",
    "stamp2time(last_record)"
   ]
  },
  {
   "cell_type": "markdown",
   "id": "e5e1bdbf",
   "metadata": {},
   "source": [
    "# Read DCCT"
   ]
  },
  {
   "cell_type": "code",
   "execution_count": 7,
   "id": "b3eea83b",
   "metadata": {
    "scrolled": true
   },
   "outputs": [],
   "source": [
    "date = \"2023-10-18\"\n",
    "time = \"13:38:04.0\""
   ]
  },
  {
   "cell_type": "code",
   "execution_count": 8,
   "id": "16f0d7f9",
   "metadata": {},
   "outputs": [],
   "source": [
    "time_datetime = datetime.strptime(\" \".join([date,time]), '%Y-%m-%d %H:%M:%S.%f').replace(tzinfo=timezone.utc)\n",
    "stamp_given = int(time_datetime.timestamp() * 1e9)\n",
    "\n",
    "stamps_arr = np.array(stamps).squeeze(axis=1)\n",
    "idx_closest_stamp = np.abs(stamps_arr - stamp_given).argmin()"
   ]
  },
  {
   "cell_type": "markdown",
   "id": "7cf7068c",
   "metadata": {},
   "source": [
    "###### fetch"
   ]
  },
  {
   "cell_type": "code",
   "execution_count": 9,
   "id": "e89eb24e",
   "metadata": {
    "scrolled": true
   },
   "outputs": [],
   "source": [
    "display_stamp = stamps_arr[idx_closest_stamp]\n",
    "\n",
    "crsr.execute(\"SELECT processIndex, intensity, processStartStamp FROM dcct WHERE sequenceStartStamp = %s;\", [int(display_stamp)])\n",
    "data = crsr.fetchall()"
   ]
  },
  {
   "cell_type": "code",
   "execution_count": 41,
   "id": "f6939b3e",
   "metadata": {
    "scrolled": true
   },
   "outputs": [],
   "source": [
    "dcct_intensity = list()\n",
    "processIndices = list()\n",
    "for pid, intensity, t in data:\n",
    "    processIndices.append([pid, len(dcct_intensity), t])\n",
    "        \n",
    "    dcct_intensity += intensity\n",
    "    \n",
    "processIndices = np.array(processIndices)\n",
    "timing = get_timings(processIndices)"
   ]
  },
  {
   "cell_type": "markdown",
   "id": "3294e97e",
   "metadata": {},
   "source": [
    "###### plot"
   ]
  },
  {
   "cell_type": "code",
   "execution_count": 51,
   "id": "c581c190",
   "metadata": {},
   "outputs": [
    {
     "data": {
      "text/plain": [
       "Text(0, 0.5, 'intensity [particles]')"
      ]
     },
     "execution_count": 51,
     "metadata": {},
     "output_type": "execute_result"
    },
    {
     "data": {
      "image/png": "[encoded data removed]",
      "text/plain": [
       "<Figure size 864x288 with 1 Axes>"
      ]
     },
     "metadata": {
      "needs_background": "light"
     },
     "output_type": "display_data"
    }
   ],
   "source": [
    "fig, ax = plt.subplots(figsize=(12,4))\n",
    "fig.suptitle(stamp2time(display_stamp))\n",
    "\n",
    "ax.plot(timing(np.arange(len(dcct_intensity))), dcct_intensity)\n",
    "\n",
    "for pid, loc, _ in processIndices:\n",
    "    ax.axvline(timing(loc),\n",
    "          linestyle=\"dashed\", color=\"orangered\")\n",
    "    \n",
    "    ax.text(timing(loc), 0.95*max(dcct_intensity), str(pid))\n",
    "    \n",
    "# make nice\n",
    "ax.set_xlabel(\"time [s]\")\n",
    "ax.set_ylabel(\"intensity [particles]\")"
   ]
  },
  {
   "cell_type": "markdown",
   "id": "8a5ae924",
   "metadata": {},
   "source": [
    "# debug"
   ]
  },
  {
   "cell_type": "code",
   "execution_count": null,
   "id": "85856de3",
   "metadata": {},
   "outputs": [],
   "source": []
  }
 ],
 "metadata": {
  "@webio": {
   "lastCommId": null,
   "lastKernelId": null
  },
  "kernelspec": {
   "display_name": "Python 3 (ipykernel)",
   "language": "python",
   "name": "python3"
  },
  "language_info": {
   "codemirror_mode": {
    "name": "ipython",
    "version": 3
   },
   "file_extension": ".py",
   "mimetype": "text/x-python",
   "name": "python",
   "nbconvert_exporter": "python",
   "pygments_lexer": "ipython3",
   "version": "3.8.10"
  }
 },
 "nbformat": 4,
 "nbformat_minor": 5
}
