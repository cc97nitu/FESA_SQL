{
 "cells": [
  {
   "cell_type": "code",
   "execution_count": 1,
   "id": "eca052fe",
   "metadata": {},
   "outputs": [],
   "source": [
    "import numpy as np\n",
    "import matplotlib.pyplot as plt\n",
    "import psycopg2\n",
    "\n",
    "from datetime import datetime, timezone"
   ]
  },
  {
   "cell_type": "markdown",
   "id": "968a3d59",
   "metadata": {},
   "source": [
    "### SQL settings"
   ]
  },
  {
   "cell_type": "code",
   "execution_count": 2,
   "id": "5da13424",
   "metadata": {},
   "outputs": [],
   "source": [
    "# DBNAME = \"fesa_test\"\n",
    "# HOST = \"140.181.85.66\"\n",
    "# PORT = \"54321\"\n",
    "# USER = \"fesa_tester\"\n",
    "# PASSWORD = \"save_bpm\"\n",
    "\n",
    "DBNAME = \"bpm_fesa_dump\"\n",
    "HOST = \"pgsql.gsi.de\"\n",
    "PORT = \"8646\"\n",
    "USER = \"bpm_fesa_dump_slave\"\n",
    "PASSWORD = \"kuwLMKTcAap6mKTP\""
   ]
  },
  {
   "cell_type": "code",
   "execution_count": 3,
   "id": "d6cb3c50",
   "metadata": {},
   "outputs": [],
   "source": [
    "try:\n",
    "    dbcon = psycopg2.connect(\"dbname=\"+DBNAME + \" user=\" + USER + \" host=\" + HOST + \" port=\" + PORT + \" password=\" + PASSWORD)\n",
    "except Exception as e:\n",
    "    print(\"Unable to connect to database\")\n",
    "    print(e)\n",
    "\n",
    "crsr = dbcon.cursor()"
   ]
  },
  {
   "cell_type": "markdown",
   "id": "604763e1",
   "metadata": {},
   "source": [
    "### overview over shots for which all twelve BPMs recorded"
   ]
  },
  {
   "cell_type": "code",
   "execution_count": 4,
   "id": "32d16118",
   "metadata": {},
   "outputs": [],
   "source": [
    "def stamp2time(stamp):\n",
    "    ts = stamp / 1e9\n",
    "    return datetime.utcfromtimestamp(ts).strftime('%Y-%m-%d %H:%M:%S.%f')"
   ]
  },
  {
   "cell_type": "code",
   "execution_count": 5,
   "id": "2911e70a",
   "metadata": {},
   "outputs": [],
   "source": [
    "def fetch_all_acquisitionStamp(crsr=crsr):\n",
    "    stamps = dict()\n",
    "    for i in range(1,13):\n",
    "        bpm_name = \"gs{:02d}dx\".format(i)\n",
    "        \n",
    "        crsr.execute(\"SELECT acquisitionStamp FROM {} WHERE acqMode = 1;\".format(\"bpm_fesa_dump.\" + bpm_name + \"_acquisition\"))\n",
    "        \n",
    "        stamps[bpm_name] = crsr.fetchall()\n",
    "    \n",
    "    return stamps"
   ]
  },
  {
   "cell_type": "code",
   "execution_count": 6,
   "id": "6f3a0b4c",
   "metadata": {
    "scrolled": true
   },
   "outputs": [],
   "source": [
    "def consistent_acquisitionStamp(acquisitionStamps, time_threshold = 1e6):\n",
    "    consistent_shots = list()  # store all shots for which all twelve BPMs recorded\n",
    "\n",
    "    gs01dx_arr = np.array(acquisitionStamps[\"gs01dx\"]).squeeze(axis=1)\n",
    "    for stamp in gs01dx_arr:\n",
    "        if stamp == 0:\n",
    "            continue\n",
    "\n",
    "        shot_stamps = np.zeros((12,), dtype=int)\n",
    "\n",
    "        for i in range(2,13):\n",
    "            bpm_name = \"gs{:02d}dx\".format(i)\n",
    "            curStamps = np.array(acquisitionStamps[bpm_name]).squeeze(axis=1)\n",
    "\n",
    "            # closest acquisition\n",
    "            idx = np.abs(curStamps - stamp).argmin()\n",
    "\n",
    "            if abs(stamp - curStamps[idx]) > 10:\n",
    "                # nothing close\n",
    "                break\n",
    "\n",
    "            shot_stamps[i-1] = curStamps[idx]\n",
    "        else:\n",
    "            shot_stamps[0] = stamp\n",
    "            consistent_shots.append(shot_stamps)\n",
    "\n",
    "    consistent_shots = np.stack(consistent_shots)\n",
    "    \n",
    "    return consistent_shots"
   ]
  },
  {
   "cell_type": "code",
   "execution_count": 7,
   "id": "e5c693c5",
   "metadata": {},
   "outputs": [],
   "source": [
    "def get_shotOverview(time_threshold = 1e6):\n",
    "    acquisitionStamps = fetch_all_acquisitionStamp()\n",
    "    \n",
    "    return consistent_acquisitionStamp(acquisitionStamps, time_threshold=time_threshold)"
   ]
  },
  {
   "cell_type": "code",
   "execution_count": 8,
   "id": "2bb9443c",
   "metadata": {
    "scrolled": false
   },
   "outputs": [
    {
     "name": "stdout",
     "output_type": "stream",
     "text": [
      "first record: 2023-11-03 10:24:48.970570\n",
      "last record: 2023-11-07 15:39:04.119730\n"
     ]
    }
   ],
   "source": [
    "shotOverview = get_shotOverview(time_threshold = 1e6)\n",
    "\n",
    "first_record = shotOverview[0][0]\n",
    "last_record = shotOverview[-1][0]\n",
    "\n",
    "print(\"first record:\", stamp2time(first_record))\n",
    "print(\"last record:\", stamp2time(last_record))"
   ]
  },
  {
   "cell_type": "code",
   "execution_count": 9,
   "id": "6b2b53dc",
   "metadata": {
    "scrolled": true
   },
   "outputs": [
    {
     "data": {
      "text/plain": [
       "(658, 12)"
      ]
     },
     "execution_count": 9,
     "metadata": {},
     "output_type": "execute_result"
    }
   ],
   "source": [
    "shotOverview.shape"
   ]
  },
  {
   "cell_type": "code",
   "execution_count": 10,
   "id": "8c4fbc66",
   "metadata": {},
   "outputs": [
    {
     "name": "stdout",
     "output_type": "stream",
     "text": [
      "acquisitionStamps identical across all BPMs for each shot\n"
     ]
    }
   ],
   "source": [
    "all_acquisitionStamp_identical = np.all([\n",
    "    np.allclose(shotOverview[row,:], shotOverview[row,0]) for row in range(shotOverview.shape[0])\n",
    "])\n",
    "\n",
    "if all_acquisitionStamp_identical:\n",
    "    print(\"acquisitionStamps identical across all BPMs for each shot\")"
   ]
  },
  {
   "cell_type": "markdown",
   "id": "e5e1bdbf",
   "metadata": {},
   "source": [
    "# Read BPM"
   ]
  },
  {
   "cell_type": "code",
   "execution_count": 11,
   "id": "b3eea83b",
   "metadata": {
    "scrolled": true
   },
   "outputs": [],
   "source": [
    "date = \"2023-11-7\"\n",
    "\n",
    "time = \"15:37:28.0\""
   ]
  },
  {
   "cell_type": "code",
   "execution_count": 12,
   "id": "16f0d7f9",
   "metadata": {},
   "outputs": [],
   "source": [
    "time_datetime = datetime.strptime(\" \".join([date,time]), '%Y-%m-%d %H:%M:%S.%f').replace(tzinfo=timezone.utc)\n",
    "stamp_given = int(time_datetime.timestamp() * 1e9)\n",
    "\n",
    "# stamps_arr = np.array(stamps).squeeze(axis=1)\n",
    "idx_closest_stamp = np.abs(shotOverview[:,0] - stamp_given).argmin()"
   ]
  },
  {
   "cell_type": "code",
   "execution_count": 13,
   "id": "206fb097",
   "metadata": {},
   "outputs": [
    {
     "data": {
      "text/plain": [
       "626"
      ]
     },
     "execution_count": 13,
     "metadata": {},
     "output_type": "execute_result"
    }
   ],
   "source": [
    "idx_closest_stamp"
   ]
  },
  {
   "cell_type": "markdown",
   "id": "7cf7068c",
   "metadata": {},
   "source": [
    "###### selected cycle"
   ]
  },
  {
   "cell_type": "code",
   "execution_count": 14,
   "id": "e89eb24e",
   "metadata": {
    "scrolled": false
   },
   "outputs": [
    {
     "data": {
      "text/plain": [
       "'2023-11-07 15:37:27.101850'"
      ]
     },
     "execution_count": 14,
     "metadata": {},
     "output_type": "execute_result"
    }
   ],
   "source": [
    "display_stamp = shotOverview[idx_closest_stamp,0]\n",
    "\n",
    "stamp2time(display_stamp)"
   ]
  },
  {
   "cell_type": "markdown",
   "id": "e6e06249",
   "metadata": {},
   "source": [
    "# fetch beamPosition for acquisitionStamp"
   ]
  },
  {
   "cell_type": "code",
   "execution_count": 15,
   "id": "a2fd0f71",
   "metadata": {},
   "outputs": [],
   "source": [
    "def bpmReadings_demasked(no_bpm: int, acquisitionStamp: int, crsr=crsr):\n",
    "    statement = \"\"\"\n",
    "    SELECT\n",
    "        processIndex, beamPosition, beamPosition_dim3_labels, processStartStamp\n",
    "    FROM\n",
    "        bpm_fesa_dump.gs{:02d}dx_acquisition\n",
    "    WHERE\n",
    "        acquisitionStamp = %s\n",
    "    ORDER BY\n",
    "        processStartStamp\n",
    ";\n",
    "    \"\"\".format(no_bpm)\n",
    "    \n",
    "    crsr.execute(statement, [int(acquisitionStamp),])\n",
    "    data = crsr.fetchall()\n",
    "    \n",
    "    assert len(data) > 0, \"nothing selected\"\n",
    "    \n",
    "    # flatten over all beamprocesses in this pattern\n",
    "    x_raw, y_raw, time = list(), list(), list()\n",
    "    for process in data:\n",
    "        timepoints = len(process[2])\n",
    "        time += process[2]\n",
    "        \n",
    "        assert 2*timepoints == len(process[1]), \"mask assumption wrong\"\n",
    "        \n",
    "        x = process[1][0:timepoints]\n",
    "        y = process[1][timepoints:]\n",
    "        \n",
    "        x_raw += x\n",
    "        y_raw += y\n",
    "        \n",
    "    return np.array(x_raw), np.array(y_raw), np.array(time)"
   ]
  },
  {
   "cell_type": "code",
   "execution_count": 22,
   "id": "6d45f86d",
   "metadata": {},
   "outputs": [],
   "source": [
    "def findKickTime(x_raw, y_raw, time, harmonic_number: int):\n",
    "    ######## implement some criterion to locate kick\n",
    "    \n",
    "    ##### fake \n",
    "    l = 112\n",
    "    kick_times = time[l:l+harmonic_number]\n",
    "\n",
    "    # calculate revolution period\n",
    "    Trev = time[l + harmonic_number] - time[l]\n",
    "    \n",
    "    return kick_times, Trev"
   ]
  },
  {
   "cell_type": "markdown",
   "id": "82ee0b29",
   "metadata": {},
   "source": [
    "### fetch"
   ]
  },
  {
   "cell_type": "code",
   "execution_count": 23,
   "id": "34a29171",
   "metadata": {},
   "outputs": [],
   "source": [
    "harmonic_number = 4"
   ]
  },
  {
   "cell_type": "code",
   "execution_count": 107,
   "id": "597388e0",
   "metadata": {
    "scrolled": false
   },
   "outputs": [
    {
     "name": "stdout",
     "output_type": "stream",
     "text": [
      "found kick_times\n",
      "Trev 4680\n",
      "390.0\n",
      "\n",
      "BPM 5\n",
      "minimum distance to retarded_kickTime 0\n",
      "minimum distance to retarded_kickTime 0\n",
      "minimum distance to retarded_kickTime 0\n",
      "minimum distance to retarded_kickTime 0\n",
      "\n",
      "BPM 6\n",
      "minimum distance to retarded_kickTime 6\n",
      "minimum distance to retarded_kickTime 6\n",
      "minimum distance to retarded_kickTime 2\n",
      "minimum distance to retarded_kickTime 2\n",
      "\n",
      "BPM 7\n",
      "minimum distance to retarded_kickTime 4\n",
      "minimum distance to retarded_kickTime 4\n",
      "minimum distance to retarded_kickTime 0\n",
      "minimum distance to retarded_kickTime 0\n",
      "\n",
      "BPM 8\n",
      "minimum distance to retarded_kickTime 2\n",
      "minimum distance to retarded_kickTime 2\n",
      "minimum distance to retarded_kickTime 2\n",
      "minimum distance to retarded_kickTime 2\n",
      "\n",
      "BPM 9\n",
      "minimum distance to retarded_kickTime 28\n",
      "minimum distance to retarded_kickTime 32\n",
      "minimum distance to retarded_kickTime 36\n",
      "minimum distance to retarded_kickTime 40\n",
      "\n",
      "BPM 10\n",
      "minimum distance to retarded_kickTime 26\n",
      "minimum distance to retarded_kickTime 30\n",
      "minimum distance to retarded_kickTime 34\n",
      "minimum distance to retarded_kickTime 38\n",
      "\n",
      "BPM 11\n",
      "minimum distance to retarded_kickTime 32\n",
      "minimum distance to retarded_kickTime 36\n",
      "minimum distance to retarded_kickTime 40\n",
      "minimum distance to retarded_kickTime 44\n",
      "\n",
      "BPM 12\n",
      "minimum distance to retarded_kickTime 34\n",
      "minimum distance to retarded_kickTime 38\n",
      "minimum distance to retarded_kickTime 42\n",
      "minimum distance to retarded_kickTime 46\n",
      "\n",
      "BPM 1\n",
      "minimum distance to retarded_kickTime 24\n",
      "minimum distance to retarded_kickTime 20\n",
      "minimum distance to retarded_kickTime 16\n",
      "minimum distance to retarded_kickTime 12\n",
      "\n",
      "BPM 2\n",
      "minimum distance to retarded_kickTime 14\n",
      "minimum distance to retarded_kickTime 10\n",
      "minimum distance to retarded_kickTime 6\n",
      "minimum distance to retarded_kickTime 2\n",
      "\n",
      "BPM 3\n",
      "minimum distance to retarded_kickTime 16\n",
      "minimum distance to retarded_kickTime 12\n",
      "minimum distance to retarded_kickTime 8\n",
      "minimum distance to retarded_kickTime 4\n",
      "\n",
      "BPM 4\n",
      "minimum distance to retarded_kickTime 14\n",
      "minimum distance to retarded_kickTime 10\n",
      "minimum distance to retarded_kickTime 6\n",
      "minimum distance to retarded_kickTime 2\n"
     ]
    }
   ],
   "source": [
    "all_times = list()\n",
    "trajectory = np.empty((12,3,50024),dtype=np.float128)  # bpm starting from 5, x/y/time, window length\n",
    "\n",
    "for i, no_bpm in enumerate([5,6,7,8,9,10,11,12,1,2,3,4]):\n",
    "    x_raw, y_raw, time = bpmReadings_demasked(no_bpm, display_stamp)\n",
    "        \n",
    "    if no_bpm == 5:\n",
    "        kick_times, Trev = findKickTime(x_raw, y_raw, time, harmonic_number)\n",
    "        print(\"found kick_times\")\n",
    "        print(\"Trev\", Trev)\n",
    "        Trev_12 = Trev / 12\n",
    "        print(Trev_12)\n",
    "\n",
    "    \n",
    "    print(\"\\nBPM\", no_bpm)\n",
    "    \n",
    "    for no_bunch, kickTime in enumerate(kick_times):\n",
    "        advance = i * 390\n",
    "        \n",
    "        retarded_kickTime = kickTime + int(round(advance))\n",
    "        \n",
    "        diff = retarded_kickTime - kickTime\n",
    "        \n",
    "        assert retarded_kickTime >= kickTime\n",
    "        \n",
    "        kick_idx = np.abs(time - retarded_kickTime).argmin()\n",
    "#         print(\"kick_idx\", kick_idx)\n",
    "        \n",
    "        print(\"minimum distance to retarded_kickTime\", np.abs(time - retarded_kickTime).min())\n",
    "        \n",
    "        \n",
    "        traj_mask = np.zeros(time.shape, dtype=bool)\n",
    "        traj_mask[kick_idx::harmonic_number] = True\n",
    "        \n",
    "#         trajectory[i,0,:] = x_raw[traj_mask][:trajectory.shape[2]]\n",
    "#         trajectory[i,1,:] = y_raw[traj_mask][:trajectory.shape[2]]\n",
    "#         trajectory[i,2,:] = time[traj_mask][:trajectory.shape[2]]\n",
    "\n",
    "        trajectory[i,0,:] = x_raw[kick_idx:-1:4][:trajectory.shape[2]]\n",
    "        trajectory[i,1,:] = y_raw[kick_idx:-1:4][:trajectory.shape[2]]\n",
    "        trajectory[i,2,:] = time[kick_idx:-1:4][0:trajectory.shape[2]]\n",
    "        \n",
    "#         plt.plot(np.diff(time[kick_idx:-1:4][:trajectory.shape[2]]))\n",
    "#         plt.plot(np.diff(trajectory[i,2,:]))\n",
    "        all_times.append(time[kick_idx:-1:4][0:trajectory.shape[2]])"
   ]
  },
  {
   "cell_type": "code",
   "execution_count": 105,
   "id": "379207e4",
   "metadata": {},
   "outputs": [
    {
     "data": {
      "text/plain": [
       "[<matplotlib.lines.Line2D at 0x7f4ca158deb0>]"
      ]
     },
     "execution_count": 105,
     "metadata": {},
     "output_type": "execute_result"
    },
    {
     "data": {
      "image/png": "[encoded data removed]",
      "text/plain": [
       "<Figure size 432x288 with 1 Axes>"
      ]
     },
     "metadata": {
      "needs_background": "light"
     },
     "output_type": "display_data"
    }
   ],
   "source": [
    "plt.plot(np.diff(all_times[0]))"
   ]
  },
  {
   "cell_type": "code",
   "execution_count": 106,
   "id": "4a3da6e0",
   "metadata": {},
   "outputs": [
    {
     "data": {
      "text/plain": [
       "[<matplotlib.lines.Line2D at 0x7f4ca21a34f0>]"
      ]
     },
     "execution_count": 106,
     "metadata": {},
     "output_type": "execute_result"
    },
    {
     "data": {
      "image/png": "[encoded data removed]",
      "text/plain": [
       "<Figure size 432x288 with 1 Axes>"
      ]
     },
     "metadata": {
      "needs_background": "light"
     },
     "output_type": "display_data"
    }
   ],
   "source": [
    "plt.plot(np.diff(trajectory[4,2,:]))"
   ]
  },
  {
   "cell_type": "markdown",
   "id": "8a5ae924",
   "metadata": {},
   "source": [
    "# debug"
   ]
  },
  {
   "cell_type": "code",
   "execution_count": 111,
   "id": "a62501d5",
   "metadata": {},
   "outputs": [
    {
     "data": {
      "image/png": "[encoded data removed]",
      "text/plain": [
       "<Figure size 432x288 with 1 Axes>"
      ]
     },
     "metadata": {
      "needs_background": "light"
     },
     "output_type": "display_data"
    }
   ],
   "source": [
    "plt.magnitude_spectrum(trajectory[8,0,:])\n",
    "plt.yscale(\"log\")"
   ]
  },
  {
   "cell_type": "code",
   "execution_count": null,
   "id": "90c705ed",
   "metadata": {},
   "outputs": [],
   "source": []
  }
 ],
 "metadata": {
  "@webio": {
   "lastCommId": null,
   "lastKernelId": null
  },
  "kernelspec": {
   "display_name": "Python 3 (ipykernel)",
   "language": "python",
   "name": "python3"
  },
  "language_info": {
   "codemirror_mode": {
    "name": "ipython",
    "version": 3
   },
   "file_extension": ".py",
   "mimetype": "text/x-python",
   "name": "python",
   "nbconvert_exporter": "python",
   "pygments_lexer": "ipython3",
   "version": "3.8.10"
  }
 },
 "nbformat": 4,
 "nbformat_minor": 5
}
