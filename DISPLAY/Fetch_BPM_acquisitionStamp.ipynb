{
 "cells": [
  {
   "cell_type": "code",
   "execution_count": 1,
   "id": "eca052fe",
   "metadata": {},
   "outputs": [],
   "source": [
    "import numpy as np\n",
    "import matplotlib.pyplot as plt\n",
    "import psycopg2\n",
    "\n",
    "from datetime import datetime, timezone"
   ]
  },
  {
   "cell_type": "markdown",
   "id": "968a3d59",
   "metadata": {},
   "source": [
    "### SQL settings"
   ]
  },
  {
   "cell_type": "code",
   "execution_count": 2,
   "id": "5da13424",
   "metadata": {},
   "outputs": [],
   "source": [
    "DBNAME = \"fesa_test\"\n",
    "HOST = \"140.181.85.66\"\n",
    "PORT = \"54321\"\n",
    "USER = \"fesa_tester\"\n",
    "PASSWORD = \"save_bpm\""
   ]
  },
  {
   "cell_type": "code",
   "execution_count": 3,
   "id": "d6cb3c50",
   "metadata": {},
   "outputs": [],
   "source": [
    "try:\n",
    "    dbcon = psycopg2.connect(\"dbname=\"+DBNAME + \" user=\" + USER + \" host=\" + HOST + \" port=\" + PORT + \" password=\" + PASSWORD)\n",
    "except Exception as e:\n",
    "    print(\"Unable to connect to database\")\n",
    "    print(e)\n",
    "\n",
    "crsr = dbcon.cursor()"
   ]
  },
  {
   "cell_type": "markdown",
   "id": "604763e1",
   "metadata": {},
   "source": [
    "### overview over shots for which all twelve BPMs recorded"
   ]
  },
  {
   "cell_type": "code",
   "execution_count": 4,
   "id": "32d16118",
   "metadata": {},
   "outputs": [],
   "source": [
    "def stamp2time(stamp):\n",
    "    ts = stamp / 1e9\n",
    "    return datetime.utcfromtimestamp(ts).strftime('%Y-%m-%d %H:%M:%S.%f')"
   ]
  },
  {
   "cell_type": "code",
   "execution_count": 27,
   "id": "2911e70a",
   "metadata": {},
   "outputs": [],
   "source": [
    "def fetch_all_acquisitionStamp(crsr=crsr):\n",
    "    stamps = dict()\n",
    "    for i in range(1,13):\n",
    "        bpm_name = \"gs{:02d}dx\".format(i)\n",
    "        \n",
    "        crsr.execute(\"SELECT acquisitionStamp FROM {} WHERE acqMode = 1;\".format(bpm_name + \"_acquisition\"))\n",
    "        \n",
    "        stamps[bpm_name] = crsr.fetchall()\n",
    "    \n",
    "    return stamps"
   ]
  },
  {
   "cell_type": "code",
   "execution_count": 28,
   "id": "6f3a0b4c",
   "metadata": {
    "scrolled": true
   },
   "outputs": [],
   "source": [
    "def consistent_acquisitionStamp(acquisitionStamps, time_threshold = 1e6):\n",
    "    consistent_shots = list()  # store all shots for which all twelve BPMs recorded\n",
    "\n",
    "    gs01dx_arr = np.array(acquisitionStamps[\"gs01dx\"]).squeeze(axis=1)\n",
    "    for stamp in gs01dx_arr:\n",
    "        if stamp == 0:\n",
    "            continue\n",
    "\n",
    "        shot_stamps = np.zeros((12,), dtype=int)\n",
    "\n",
    "        for i in range(2,13):\n",
    "            bpm_name = \"gs{:02d}dx\".format(i)\n",
    "            curStamps = np.array(acquisitionStamps[bpm_name]).squeeze(axis=1)\n",
    "\n",
    "            # closest acquisition\n",
    "            idx = np.abs(curStamps - stamp).argmin()\n",
    "\n",
    "            if abs(stamp - curStamps[idx]) > 10:\n",
    "                # nothing close\n",
    "                break\n",
    "\n",
    "            shot_stamps[i-1] = curStamps[idx]\n",
    "        else:\n",
    "            shot_stamps[0] = stamp\n",
    "            consistent_shots.append(shot_stamps)\n",
    "\n",
    "    consistent_shots = np.stack(consistent_shots)\n",
    "    \n",
    "    return consistent_shots"
   ]
  },
  {
   "cell_type": "code",
   "execution_count": 29,
   "id": "e5c693c5",
   "metadata": {},
   "outputs": [],
   "source": [
    "def get_shotOverview(time_threshold = 1e6):\n",
    "    acquisitionStamps = fetch_all_acquisitionStamp()\n",
    "    \n",
    "    return consistent_acquisitionStamp(acquisitionStamps, time_threshold=time_threshold)"
   ]
  },
  {
   "cell_type": "code",
   "execution_count": 30,
   "id": "2bb9443c",
   "metadata": {
    "scrolled": false
   },
   "outputs": [
    {
     "data": {
      "text/plain": [
       "'2023-11-01 13:03:38.381300'"
      ]
     },
     "execution_count": 30,
     "metadata": {},
     "output_type": "execute_result"
    }
   ],
   "source": [
    "shotOverview = get_shotOverview(time_threshold = 1e6)\n",
    "\n",
    "first_record = shotOverview[0][0]\n",
    "last_record = shotOverview[-1][0]\n",
    "\n",
    "stamp2time(first_record)"
   ]
  },
  {
   "cell_type": "code",
   "execution_count": 31,
   "id": "6b2b53dc",
   "metadata": {},
   "outputs": [
    {
     "data": {
      "text/plain": [
       "(14, 12)"
      ]
     },
     "execution_count": 31,
     "metadata": {},
     "output_type": "execute_result"
    }
   ],
   "source": [
    "shotOverview.shape"
   ]
  },
  {
   "cell_type": "code",
   "execution_count": 32,
   "id": "93f8f7f9",
   "metadata": {},
   "outputs": [
    {
     "name": "stdout",
     "output_type": "stream",
     "text": [
      "True\n",
      "True\n",
      "True\n",
      "True\n",
      "True\n",
      "True\n",
      "True\n",
      "True\n",
      "True\n",
      "True\n",
      "True\n",
      "True\n",
      "True\n",
      "True\n"
     ]
    }
   ],
   "source": [
    "for row in range(shotOverview.shape[0]):\n",
    "    print(np.allclose(shotOverview[row,:], shotOverview[row,0]))"
   ]
  },
  {
   "cell_type": "markdown",
   "id": "e5e1bdbf",
   "metadata": {},
   "source": [
    "# Read BPM"
   ]
  },
  {
   "cell_type": "code",
   "execution_count": 14,
   "id": "b3eea83b",
   "metadata": {
    "scrolled": true
   },
   "outputs": [],
   "source": [
    "date = \"2023-11-1\"\n",
    "\n",
    "time = \"13:03:45.0\""
   ]
  },
  {
   "cell_type": "code",
   "execution_count": 15,
   "id": "16f0d7f9",
   "metadata": {},
   "outputs": [],
   "source": [
    "time_datetime = datetime.strptime(\" \".join([date,time]), '%Y-%m-%d %H:%M:%S.%f').replace(tzinfo=timezone.utc)\n",
    "stamp_given = int(time_datetime.timestamp() * 1e9)\n",
    "\n",
    "# stamps_arr = np.array(stamps).squeeze(axis=1)\n",
    "idx_closest_stamp = np.abs(shotOverview[:,0] - stamp_given).argmin()"
   ]
  },
  {
   "cell_type": "code",
   "execution_count": 16,
   "id": "206fb097",
   "metadata": {},
   "outputs": [
    {
     "data": {
      "text/plain": [
       "1"
      ]
     },
     "execution_count": 16,
     "metadata": {},
     "output_type": "execute_result"
    }
   ],
   "source": [
    "idx_closest_stamp"
   ]
  },
  {
   "cell_type": "markdown",
   "id": "7cf7068c",
   "metadata": {},
   "source": [
    "###### selected cycle"
   ]
  },
  {
   "cell_type": "code",
   "execution_count": 17,
   "id": "e89eb24e",
   "metadata": {
    "scrolled": false
   },
   "outputs": [
    {
     "data": {
      "text/plain": [
       "'2023-11-01 13:03:44.461500'"
      ]
     },
     "execution_count": 17,
     "metadata": {},
     "output_type": "execute_result"
    }
   ],
   "source": [
    "display_stamp = shotOverview[idx_closest_stamp,0]\n",
    "\n",
    "stamp2time(display_stamp)"
   ]
  },
  {
   "cell_type": "markdown",
   "id": "e6e06249",
   "metadata": {},
   "source": [
    "# fetch beamPosition for acquisitionStamp"
   ]
  },
  {
   "cell_type": "code",
   "execution_count": 37,
   "id": "a2fd0f71",
   "metadata": {},
   "outputs": [],
   "source": [
    "def bpmReadings_demasked(no_bpm: int, acquisitionStamp: int, crsr=crsr):\n",
    "    statement = \"\"\"\n",
    "    SELECT\n",
    "        processIndex, beamPosition, beamPosition_dim3_labels, processStartStamp\n",
    "    FROM\n",
    "        gs{:02d}dx_acquisition\n",
    "    WHERE\n",
    "        acquisitionStamp = %s\n",
    "    ORDER BY\n",
    "        processStartStamp\n",
    ";\n",
    "    \"\"\".format(no_bpm)\n",
    "    \n",
    "    crsr.execute(statement, [int(acquisitionStamp),])\n",
    "    data = crsr.fetchall()\n",
    "    \n",
    "    assert len(data) > 0, \"nothing selected\"\n",
    "    \n",
    "    # flatten over all beamprocesses in this pattern\n",
    "    x_raw, y_raw, time = list(), list(), list()\n",
    "    for process in data:\n",
    "        timepoints = len(process[2])\n",
    "        time += process[2]\n",
    "        \n",
    "        assert 2*timepoints == len(process[1]), \"mask assumption wrong\"\n",
    "        \n",
    "        x = process[1][0:timepoints]\n",
    "        y = process[1][timepoints:]\n",
    "        \n",
    "        x_raw += x\n",
    "        y_raw += y\n",
    "        \n",
    "    return np.array(x_raw), np.array(y_raw), np.array(time)"
   ]
  },
  {
   "cell_type": "code",
   "execution_count": 73,
   "id": "6d45f86d",
   "metadata": {},
   "outputs": [],
   "source": [
    "def findKickTime(x_raw, y_raw, time, harmonic_number: int):\n",
    "    ######## implement some criterion to locate kick\n",
    "    \n",
    "    ##### fake \n",
    "    l = 512\n",
    "    kick_times = time[l:l+harmonic_number]\n",
    "\n",
    "    # calculate revolution period\n",
    "    Trev = time[l + harmonic_number] - time[l]\n",
    "    \n",
    "    return kick_times, Trev"
   ]
  },
  {
   "cell_type": "markdown",
   "id": "82ee0b29",
   "metadata": {},
   "source": [
    "### fetch"
   ]
  },
  {
   "cell_type": "code",
   "execution_count": 74,
   "id": "34a29171",
   "metadata": {},
   "outputs": [],
   "source": [
    "harmonic_number = 4"
   ]
  },
  {
   "cell_type": "code",
   "execution_count": 78,
   "id": "597388e0",
   "metadata": {
    "scrolled": false
   },
   "outputs": [
    {
     "name": "stdout",
     "output_type": "stream",
     "text": [
      "found kick_times\n",
      "Trev 4992\n",
      "\n",
      " 5\n",
      "minimum distance to kickTime 0\n",
      "minimum distance to retarded_kickTime 0.0\n",
      "diff 0.0\n",
      "minimum distance to kickTime 0\n",
      "minimum distance to retarded_kickTime 0.0\n",
      "diff 0.0\n",
      "minimum distance to kickTime 0\n",
      "minimum distance to retarded_kickTime 0.0\n",
      "diff 0.0\n",
      "minimum distance to kickTime 0\n",
      "minimum distance to retarded_kickTime 0.0\n",
      "diff 0.0\n",
      "\n",
      " 6\n",
      "minimum distance to kickTime 4\n",
      "minimum distance to retarded_kickTime 512.0\n",
      "diff 512.0\n",
      "minimum distance to kickTime 4\n",
      "minimum distance to retarded_kickTime 512.0\n",
      "diff 512.0\n",
      "minimum distance to kickTime 4\n",
      "minimum distance to retarded_kickTime 512.0\n",
      "diff 512.0\n",
      "minimum distance to kickTime 4\n",
      "minimum distance to retarded_kickTime 512.0\n",
      "diff 512.0\n",
      "\n",
      " 7\n",
      "minimum distance to kickTime 4\n",
      "minimum distance to retarded_kickTime 512.0\n",
      "diff 512.0\n",
      "minimum distance to kickTime 4\n",
      "minimum distance to retarded_kickTime 512.0\n",
      "diff 512.0\n",
      "minimum distance to kickTime 4\n",
      "minimum distance to retarded_kickTime 512.0\n",
      "diff 512.0\n",
      "minimum distance to kickTime 4\n",
      "minimum distance to retarded_kickTime 512.0\n",
      "diff 512.0\n",
      "\n",
      " 8\n",
      "minimum distance to kickTime 0\n",
      "minimum distance to retarded_kickTime 0.0\n",
      "diff 0.0\n",
      "minimum distance to kickTime 0\n",
      "minimum distance to retarded_kickTime 0.0\n",
      "diff 0.0\n",
      "minimum distance to kickTime 0\n",
      "minimum distance to retarded_kickTime 0.0\n",
      "diff 0.0\n",
      "minimum distance to kickTime 0\n",
      "minimum distance to retarded_kickTime 0.0\n",
      "diff 0.0\n",
      "\n",
      " 9\n",
      "minimum distance to kickTime 24\n",
      "minimum distance to retarded_kickTime 256.0\n",
      "diff 256.0\n",
      "minimum distance to kickTime 28\n",
      "minimum distance to retarded_kickTime 512.0\n",
      "diff 512.0\n",
      "minimum distance to kickTime 32\n",
      "minimum distance to retarded_kickTime 256.0\n",
      "diff 256.0\n",
      "minimum distance to kickTime 36\n",
      "minimum distance to retarded_kickTime 512.0\n",
      "diff 512.0\n",
      "\n",
      " 10\n",
      "minimum distance to kickTime 24\n",
      "minimum distance to retarded_kickTime 512.0\n",
      "diff 512.0\n",
      "minimum distance to kickTime 28\n",
      "minimum distance to retarded_kickTime 512.0\n",
      "diff 512.0\n",
      "minimum distance to kickTime 32\n",
      "minimum distance to retarded_kickTime 256.0\n",
      "diff 256.0\n",
      "minimum distance to kickTime 36\n",
      "minimum distance to retarded_kickTime 256.0\n",
      "diff 256.0\n",
      "\n",
      " 11\n",
      "minimum distance to kickTime 24\n",
      "minimum distance to retarded_kickTime 0.0\n",
      "diff 0.0\n",
      "minimum distance to kickTime 28\n",
      "minimum distance to retarded_kickTime 0.0\n",
      "diff 0.0\n",
      "minimum distance to kickTime 32\n",
      "minimum distance to retarded_kickTime 256.0\n",
      "diff 256.0\n",
      "minimum distance to kickTime 36\n",
      "minimum distance to retarded_kickTime 256.0\n",
      "diff 256.0\n",
      "\n",
      " 12\n",
      "minimum distance to kickTime 20\n",
      "minimum distance to retarded_kickTime 256.0\n",
      "diff 256.0\n",
      "minimum distance to kickTime 24\n",
      "minimum distance to retarded_kickTime 256.0\n",
      "diff 256.0\n",
      "minimum distance to kickTime 28\n",
      "minimum distance to retarded_kickTime 512.0\n",
      "diff 512.0\n",
      "minimum distance to kickTime 32\n",
      "minimum distance to retarded_kickTime 512.0\n",
      "diff 512.0\n",
      "\n",
      " 1\n",
      "minimum distance to kickTime 16\n",
      "minimum distance to retarded_kickTime 512.0\n",
      "diff 512.0\n",
      "minimum distance to kickTime 12\n",
      "minimum distance to retarded_kickTime 512.0\n",
      "diff 512.0\n",
      "minimum distance to kickTime 8\n",
      "minimum distance to retarded_kickTime 256.0\n",
      "diff 256.0\n",
      "minimum distance to kickTime 4\n",
      "minimum distance to retarded_kickTime 256.0\n",
      "diff 256.0\n",
      "\n",
      " 2\n",
      "minimum distance to kickTime 20\n",
      "minimum distance to retarded_kickTime 0.0\n",
      "diff 0.0\n",
      "minimum distance to kickTime 16\n",
      "minimum distance to retarded_kickTime 0.0\n",
      "diff 0.0\n",
      "minimum distance to kickTime 12\n",
      "minimum distance to retarded_kickTime 256.0\n",
      "diff 256.0\n",
      "minimum distance to kickTime 8\n",
      "minimum distance to retarded_kickTime 256.0\n",
      "diff 256.0\n",
      "\n",
      " 3\n",
      "minimum distance to kickTime 20\n",
      "minimum distance to retarded_kickTime 256.0\n",
      "diff 256.0\n",
      "minimum distance to kickTime 16\n",
      "minimum distance to retarded_kickTime 256.0\n",
      "diff 256.0\n",
      "minimum distance to kickTime 12\n",
      "minimum distance to retarded_kickTime 512.0\n",
      "diff 512.0\n",
      "minimum distance to kickTime 8\n",
      "minimum distance to retarded_kickTime 512.0\n",
      "diff 512.0\n",
      "\n",
      " 4\n",
      "minimum distance to kickTime 16\n",
      "minimum distance to retarded_kickTime 512.0\n",
      "diff 512.0\n",
      "minimum distance to kickTime 12\n",
      "minimum distance to retarded_kickTime 256.0\n",
      "diff 256.0\n",
      "minimum distance to kickTime 8\n",
      "minimum distance to retarded_kickTime 256.0\n",
      "diff 256.0\n",
      "minimum distance to kickTime 4\n",
      "minimum distance to retarded_kickTime 256.0\n",
      "diff 256.0\n"
     ]
    }
   ],
   "source": [
    "trajectory = np.empty((12,3,1024))  # bpm starting from 5, x/y/time, window length\n",
    "\n",
    "for i, no_bpm in enumerate([5,6,7,8,9,10,11,12,1,2,3,4]):\n",
    "    x_raw, y_raw, time = bpmReadings_demasked(no_bpm, display_stamp)\n",
    "        \n",
    "    if no_bpm == 5:\n",
    "        kick_times, Trev = findKickTime(x_raw, y_raw, time, harmonic_number)\n",
    "        print(\"found kick_times\")\n",
    "        print(\"Trev\", Trev)\n",
    "    \n",
    "    print(\"\\n\", no_bpm)\n",
    "    \n",
    "    for no_bunch, kickTime in enumerate(kick_times):\n",
    "        retarded_kickTime = kickTime + i * Trev/12\n",
    "        assert retarded_kickTime >= kickTime\n",
    "        \n",
    "        kick_idx = np.abs(time - retarded_kickTime).argmin()\n",
    "        \n",
    "        print(\"minimum distance to kickTime\", np.abs(time - kickTime).min())\n",
    "        print(\"minimum distance to retarded_kickTime\", np.abs(time - retarded_kickTime).min())\n",
    "        print(\"diff\", abs(time[kick_idx] - retarded_kickTime))\n",
    "        \n",
    "#         assert abs(time[kick_idx] - retarded_kickTime) < Trev/12, \"kick_idx far away from kickTime\"\n",
    "#         assert np.abs(time - retarded_kickTime).min() < Trev/12, \"kick_idx far away from kickTime\"\n",
    "        \n",
    "        traj_mask = np.zeros(time.shape, dtype=bool)\n",
    "        traj_mask[kick_idx::harmonic_number] = True\n",
    "        \n",
    "        trajectory[i,0,:] = x_raw[traj_mask][:trajectory.shape[2]]\n",
    "        trajectory[i,1,:] = y_raw[traj_mask][:trajectory.shape[2]]\n",
    "        trajectory[i,2,:] = time[traj_mask][:trajectory.shape[2]]"
   ]
  },
  {
   "cell_type": "markdown",
   "id": "8a5ae924",
   "metadata": {},
   "source": [
    "# debug"
   ]
  },
  {
   "cell_type": "code",
   "execution_count": 80,
   "id": "33923977",
   "metadata": {},
   "outputs": [
    {
     "data": {
      "text/plain": [
       "416.0"
      ]
     },
     "execution_count": 80,
     "metadata": {},
     "output_type": "execute_result"
    }
   ],
   "source": [
    "Trev / 12"
   ]
  },
  {
   "cell_type": "code",
   "execution_count": 82,
   "id": "58b01a19",
   "metadata": {},
   "outputs": [
    {
     "data": {
      "text/plain": [
       "array([1248, 1248, 1248, ...,  564,  564,  564])"
      ]
     },
     "execution_count": 82,
     "metadata": {},
     "output_type": "execute_result"
    }
   ],
   "source": [
    "np.diff(t1)"
   ]
  },
  {
   "cell_type": "code",
   "execution_count": 84,
   "id": "5b1619d4",
   "metadata": {},
   "outputs": [
    {
     "data": {
      "text/plain": [
       "array([4, 4, 4, ..., 4, 4, 4])"
      ]
     },
     "execution_count": 84,
     "metadata": {},
     "output_type": "execute_result"
    }
   ],
   "source": [
    "t2 - t1"
   ]
  },
  {
   "cell_type": "code",
   "execution_count": null,
   "id": "40e7ee4f",
   "metadata": {},
   "outputs": [],
   "source": [
    "dbcon.reset()"
   ]
  },
  {
   "cell_type": "code",
   "execution_count": 24,
   "id": "0c367bdc",
   "metadata": {},
   "outputs": [
    {
     "data": {
      "text/plain": [
       "1"
      ]
     },
     "execution_count": 24,
     "metadata": {},
     "output_type": "execute_result"
    }
   ],
   "source": [
    "crsr.execute(\"\"\"\n",
    "    SELECT\n",
    "    processIndex, beamPosition, beamPosition_dim3_labels, processStartStamp, acqMode\n",
    "    FROM gs01dx_acquisition\n",
    "    WHERE acquisitionStamp = %s;\n",
    "    \"\"\", [int(shotOverview[idx_closest_stamp,0])]\n",
    "            )\n",
    "\n",
    "data = crsr.fetchall()\n",
    "processIndex, beamPosition, beamPosition_dim3_labels, processStartStamp, acqMode = data[0]\n",
    "acqMode"
   ]
  },
  {
   "cell_type": "code",
   "execution_count": 25,
   "id": "1208fdbc",
   "metadata": {},
   "outputs": [
    {
     "data": {
      "text/plain": [
       "(600000,)"
      ]
     },
     "execution_count": 25,
     "metadata": {},
     "output_type": "execute_result"
    }
   ],
   "source": [
    "np.array(beamPosition).shape"
   ]
  },
  {
   "cell_type": "code",
   "execution_count": 26,
   "id": "82586653",
   "metadata": {},
   "outputs": [
    {
     "data": {
      "text/plain": [
       "(300000,)"
      ]
     },
     "execution_count": 26,
     "metadata": {},
     "output_type": "execute_result"
    }
   ],
   "source": [
    "np.array(beamPosition_dim3_labels).shape"
   ]
  },
  {
   "cell_type": "code",
   "execution_count": 100,
   "id": "f74e3089",
   "metadata": {},
   "outputs": [
    {
     "data": {
      "text/plain": [
       "1"
      ]
     },
     "execution_count": 100,
     "metadata": {},
     "output_type": "execute_result"
    }
   ],
   "source": [
    "crsr.execute(\"\"\"\n",
    "    SELECT\n",
    "    processIndex, beamPosition, beamPosition_dim3_labels, processStartStamp, acqMode\n",
    "    FROM gs02dx_acquisition\n",
    "    WHERE acquisitionStamp = %s;\n",
    "    \"\"\", [int(shotOverview[idx_closest_stamp,0])]\n",
    "            )\n",
    "\n",
    "data = crsr.fetchall()\n",
    "_, beamPosition_2, beamPosition_dim3_labels_2, _, _ = data[0]\n",
    "_"
   ]
  },
  {
   "cell_type": "code",
   "execution_count": 101,
   "id": "374ab5c4",
   "metadata": {},
   "outputs": [],
   "source": [
    "t1 = np.array(beamPosition_dim3_labels)\n",
    "t2 = np.array(beamPosition_dim3_labels_2)"
   ]
  },
  {
   "cell_type": "code",
   "execution_count": 102,
   "id": "09d94345",
   "metadata": {},
   "outputs": [
    {
     "data": {
      "text/plain": [
       "4"
      ]
     },
     "execution_count": 102,
     "metadata": {},
     "output_type": "execute_result"
    }
   ],
   "source": [
    "np.abs(t1 - t2).max()"
   ]
  },
  {
   "cell_type": "code",
   "execution_count": 103,
   "id": "27cd99f1",
   "metadata": {},
   "outputs": [
    {
     "data": {
      "text/plain": [
       "array([1698843824461507604, 1698843824461508852, 1698843824461510100,\n",
       "       1698843824461511348, 1698843824461512604])"
      ]
     },
     "execution_count": 103,
     "metadata": {},
     "output_type": "execute_result"
    }
   ],
   "source": [
    "t2[:5]"
   ]
  },
  {
   "cell_type": "code",
   "execution_count": 104,
   "id": "d8fdadbb",
   "metadata": {},
   "outputs": [
    {
     "data": {
      "text/plain": [
       "array([1252, 1252, 1252])"
      ]
     },
     "execution_count": 104,
     "metadata": {},
     "output_type": "execute_result"
    }
   ],
   "source": [
    "np.diff(kick_times)"
   ]
  },
  {
   "cell_type": "code",
   "execution_count": 105,
   "id": "2cae2641",
   "metadata": {
    "scrolled": true
   },
   "outputs": [
    {
     "data": {
      "text/plain": [
       "3024"
      ]
     },
     "execution_count": 105,
     "metadata": {},
     "output_type": "execute_result"
    }
   ],
   "source": [
    "756 * 4"
   ]
  },
  {
   "cell_type": "code",
   "execution_count": 106,
   "id": "325d30a3",
   "metadata": {},
   "outputs": [
    {
     "data": {
      "text/plain": [
       "[<matplotlib.lines.Line2D at 0x7fb237516b20>]"
      ]
     },
     "execution_count": 106,
     "metadata": {},
     "output_type": "execute_result"
    },
    {
     "data": {
      "image/png": "[encoded data removed]",
      "text/plain": [
       "<Figure size 432x288 with 1 Axes>"
      ]
     },
     "metadata": {
      "needs_background": "light"
     },
     "output_type": "display_data"
    }
   ],
   "source": [
    "plt.plot(np.diff(t1))"
   ]
  },
  {
   "cell_type": "code",
   "execution_count": 107,
   "id": "639a4454",
   "metadata": {},
   "outputs": [
    {
     "data": {
      "text/plain": [
       "array([[1.        , 0.00185365],\n",
       "       [0.00185365, 1.        ]])"
      ]
     },
     "execution_count": 107,
     "metadata": {},
     "output_type": "execute_result"
    }
   ],
   "source": [
    "np.corrcoef(beamPosition, beamPosition_2)"
   ]
  },
  {
   "cell_type": "code",
   "execution_count": 21,
   "id": "dc83ae3c",
   "metadata": {},
   "outputs": [],
   "source": [
    "crsr.execute(\"\"\"\n",
    "    SELECT\n",
    "    acqMode\n",
    "    FROM gs01dx_acquisition\n",
    "    \"\"\")"
   ]
  },
  {
   "cell_type": "code",
   "execution_count": 22,
   "id": "6ddd76a2",
   "metadata": {},
   "outputs": [],
   "source": [
    "acq = crsr.fetchall()"
   ]
  },
  {
   "cell_type": "code",
   "execution_count": 23,
   "id": "b607d03c",
   "metadata": {},
   "outputs": [
    {
     "data": {
      "text/plain": [
       "[(2,),\n",
       " (1,),\n",
       " (1,),\n",
       " (1,),\n",
       " (1,),\n",
       " (1,),\n",
       " (1,),\n",
       " (1,),\n",
       " (1,),\n",
       " (1,),\n",
       " (1,),\n",
       " (1,),\n",
       " (1,),\n",
       " (1,),\n",
       " (1,)]"
      ]
     },
     "execution_count": 23,
     "metadata": {},
     "output_type": "execute_result"
    }
   ],
   "source": [
    "acq"
   ]
  },
  {
   "cell_type": "code",
   "execution_count": 98,
   "id": "ba875c6c",
   "metadata": {},
   "outputs": [
    {
     "data": {
      "text/plain": [
       "array([[1., 1.],\n",
       "       [1., 1.]])"
      ]
     },
     "execution_count": 98,
     "metadata": {},
     "output_type": "execute_result"
    }
   ],
   "source": [
    "foo = np.arange(15)\n",
    "np.corrcoef(foo, foo)"
   ]
  },
  {
   "cell_type": "code",
   "execution_count": null,
   "id": "8c01ad59",
   "metadata": {},
   "outputs": [],
   "source": []
  }
 ],
 "metadata": {
  "@webio": {
   "lastCommId": null,
   "lastKernelId": null
  },
  "kernelspec": {
   "display_name": "Python 3 (ipykernel)",
   "language": "python",
   "name": "python3"
  },
  "language_info": {
   "codemirror_mode": {
    "name": "ipython",
    "version": 3
   },
   "file_extension": ".py",
   "mimetype": "text/x-python",
   "name": "python",
   "nbconvert_exporter": "python",
   "pygments_lexer": "ipython3",
   "version": "3.8.10"
  }
 },
 "nbformat": 4,
 "nbformat_minor": 5
}
